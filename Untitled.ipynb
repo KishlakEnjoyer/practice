{
 "cells": [
  {
   "cell_type": "markdown",
   "id": "3e4aa5a8-0b97-4745-ba6c-31f1863befd1",
   "metadata": {},
   "source": [
    "# 🚇Объем межгосударственного трафика метрополитена\n",
    "## 🚇Metro Interstate Traffic Volume"
   ]
  },
  {
   "cell_type": "markdown",
   "id": "7b90e8c8-1f6e-4f49-9701-55a85d839be6",
   "metadata": {},
   "source": [
    "## 📝Содержание"
   ]
  },
  {
   "cell_type": "markdown",
   "id": "0b8d429c-fec1-4454-bd9b-578c588f8271",
   "metadata": {},
   "source": [
    "Почасовой объем трафика Миннеаполис-Сент-Пол, Миннесота на западном направлении I-94. Включает информацию о погоде и отдыхе за 2012–2018 годы."
   ]
  },
  {
   "cell_type": "markdown",
   "id": "43a79ff2-2643-4f11-9542-8d3b3ee01cf4",
   "metadata": {},
   "source": [
    "## 📥Источник"
   ]
  },
  {
   "cell_type": "markdown",
   "id": "738ea361-53d1-4456-af66-46078a644a85",
   "metadata": {},
   "source": [
    "https://archive.ics.uci.edu/dataset/492/metro+interstate+traffic+volume"
   ]
  },
  {
   "cell_type": "markdown",
   "id": "1e7da37a-d36e-49ab-abd6-5606ec2d79c6",
   "metadata": {},
   "source": [
    "## 🎯Цель работы"
   ]
  },
  {
   "cell_type": "markdown",
   "id": "9b0f58c9-9d4e-4caa-a981-255dea4ab886",
   "metadata": {},
   "source": [
    "- Исследовать и проанализировать данные\n",
    "- Просмотреть распределение данных\n",
    "- Провести обучение моделей\n",
    "- Сделать выводы"
   ]
  },
  {
   "cell_type": "markdown",
   "id": "95f4a4fd-b79a-461b-b701-55dbbc4a86e8",
   "metadata": {},
   "source": [
    "# Модуль А"
   ]
  },
  {
   "cell_type": "markdown",
   "id": "1550398f-a3ba-4c72-9b9a-59d7c1a022d2",
   "metadata": {},
   "source": [
    "# 1. 📖Подключение базовых библиотек"
   ]
  },
  {
   "cell_type": "code",
   "execution_count": 1,
   "id": "3f507377-ca79-487a-a9d7-d75928627363",
   "metadata": {},
   "outputs": [],
   "source": [
    "import pandas as pd\n",
    "import numpy as np\n",
    "import seaborn as sns\n",
    "\n",
    "import matplotlib.pyplot as plt\n",
    "%matplotlib inline\n",
    "\n",
    "import warnings\n",
    "warnings.filterwarnings('ignore')"
   ]
  },
  {
   "cell_type": "markdown",
   "id": "4e5287e6-92e7-4908-81a1-826996bab7aa",
   "metadata": {},
   "source": [
    "# 2. 📥Загрузка данных"
   ]
  },
  {
   "cell_type": "code",
   "execution_count": 2,
   "id": "e6e0ac30-9126-405d-b576-e6c698fee67c",
   "metadata": {},
   "outputs": [
    {
     "data": {
      "text/html": [
       "<div>\n",
       "<style scoped>\n",
       "    .dataframe tbody tr th:only-of-type {\n",
       "        vertical-align: middle;\n",
       "    }\n",
       "\n",
       "    .dataframe tbody tr th {\n",
       "        vertical-align: top;\n",
       "    }\n",
       "\n",
       "    .dataframe thead th {\n",
       "        text-align: right;\n",
       "    }\n",
       "</style>\n",
       "<table border=\"1\" class=\"dataframe\">\n",
       "  <thead>\n",
       "    <tr style=\"text-align: right;\">\n",
       "      <th></th>\n",
       "      <th>holiday</th>\n",
       "      <th>temp</th>\n",
       "      <th>rain_1h</th>\n",
       "      <th>snow_1h</th>\n",
       "      <th>clouds_all</th>\n",
       "      <th>weather_main</th>\n",
       "      <th>weather_description</th>\n",
       "      <th>date_time</th>\n",
       "      <th>traffic_volume</th>\n",
       "    </tr>\n",
       "  </thead>\n",
       "  <tbody>\n",
       "    <tr>\n",
       "      <th>4534</th>\n",
       "      <td>NaN</td>\n",
       "      <td>272.82</td>\n",
       "      <td>0.0</td>\n",
       "      <td>0.0</td>\n",
       "      <td>90</td>\n",
       "      <td>Clouds</td>\n",
       "      <td>overcast clouds</td>\n",
       "      <td>2013-03-25 17:00:00</td>\n",
       "      <td>5589</td>\n",
       "    </tr>\n",
       "    <tr>\n",
       "      <th>10816</th>\n",
       "      <td>NaN</td>\n",
       "      <td>264.22</td>\n",
       "      <td>0.0</td>\n",
       "      <td>0.0</td>\n",
       "      <td>64</td>\n",
       "      <td>Snow</td>\n",
       "      <td>light snow</td>\n",
       "      <td>2013-12-20 03:00:00</td>\n",
       "      <td>415</td>\n",
       "    </tr>\n",
       "    <tr>\n",
       "      <th>12714</th>\n",
       "      <td>NaN</td>\n",
       "      <td>263.41</td>\n",
       "      <td>0.0</td>\n",
       "      <td>0.0</td>\n",
       "      <td>90</td>\n",
       "      <td>Clouds</td>\n",
       "      <td>overcast clouds</td>\n",
       "      <td>2014-03-06 05:00:00</td>\n",
       "      <td>2734</td>\n",
       "    </tr>\n",
       "    <tr>\n",
       "      <th>17569</th>\n",
       "      <td>NaN</td>\n",
       "      <td>286.52</td>\n",
       "      <td>0.0</td>\n",
       "      <td>0.0</td>\n",
       "      <td>90</td>\n",
       "      <td>Clouds</td>\n",
       "      <td>overcast clouds</td>\n",
       "      <td>2015-08-20 00:00:00</td>\n",
       "      <td>658</td>\n",
       "    </tr>\n",
       "    <tr>\n",
       "      <th>21123</th>\n",
       "      <td>NaN</td>\n",
       "      <td>276.86</td>\n",
       "      <td>0.0</td>\n",
       "      <td>0.0</td>\n",
       "      <td>1</td>\n",
       "      <td>Clear</td>\n",
       "      <td>sky is clear</td>\n",
       "      <td>2016-02-07 10:00:00</td>\n",
       "      <td>3479</td>\n",
       "    </tr>\n",
       "  </tbody>\n",
       "</table>\n",
       "</div>"
      ],
      "text/plain": [
       "      holiday    temp  rain_1h  snow_1h  clouds_all weather_main  \\\n",
       "4534      NaN  272.82      0.0      0.0          90       Clouds   \n",
       "10816     NaN  264.22      0.0      0.0          64         Snow   \n",
       "12714     NaN  263.41      0.0      0.0          90       Clouds   \n",
       "17569     NaN  286.52      0.0      0.0          90       Clouds   \n",
       "21123     NaN  276.86      0.0      0.0           1        Clear   \n",
       "\n",
       "      weather_description            date_time  traffic_volume  \n",
       "4534      overcast clouds  2013-03-25 17:00:00            5589  \n",
       "10816          light snow  2013-12-20 03:00:00             415  \n",
       "12714     overcast clouds  2014-03-06 05:00:00            2734  \n",
       "17569     overcast clouds  2015-08-20 00:00:00             658  \n",
       "21123        sky is clear  2016-02-07 10:00:00            3479  "
      ]
     },
     "execution_count": 2,
     "metadata": {},
     "output_type": "execute_result"
    }
   ],
   "source": [
    "df = pd.read_csv('Metro_Interstate_Traffic_Volume.csv')\n",
    "df.sample(5)"
   ]
  },
  {
   "cell_type": "markdown",
   "id": "b17943c7-9573-4ea2-ae64-c2a922cbf28e",
   "metadata": {},
   "source": [
    "## Описание данных\n",
    "- holiday - национальные праздники США и региональный праздник, Ярмарка штата Миннесота\n",
    "- temp - Средняя температура в Кельвинах\n",
    "- rain_1h - Количество осадков в мм, выпавших за час\n",
    "- snow_1h - Количество снега в мм, выпавшее за час\n",
    "- clouds_all - Процент облачности\n",
    "- weather_main - Краткое текстовое описание текущей погоды\n",
    "- weather_description - Более подробное текстовое описание текущей погоды.\n",
    "- date_time - Час сбора данных по местному времени CST.\n",
    "- traffic_volume - Ежечасно I-94 ATR 301 сообщал об объеме движения в западном направлении."
   ]
  },
  {
   "cell_type": "markdown",
   "id": "e2ce663d-742c-4421-97bf-ccaf6a4c07dc",
   "metadata": {},
   "source": [
    "# 2.1 🔎Первичный анализ данных"
   ]
  },
  {
   "cell_type": "code",
   "execution_count": 3,
   "id": "df529656-d80e-4e38-ad45-f25214b31d35",
   "metadata": {},
   "outputs": [
    {
     "data": {
      "text/plain": [
       "(48204, 9)"
      ]
     },
     "execution_count": 3,
     "metadata": {},
     "output_type": "execute_result"
    }
   ],
   "source": [
    "# Посмотрим на размерность дата-сета\n",
    "df.shape"
   ]
  },
  {
   "cell_type": "code",
   "execution_count": 4,
   "id": "176f0f1f-db7a-44bc-9a3e-e34b7c761eb0",
   "metadata": {},
   "outputs": [
    {
     "data": {
      "text/plain": [
       "holiday                 object\n",
       "temp                   float64\n",
       "rain_1h                float64\n",
       "snow_1h                float64\n",
       "clouds_all               int64\n",
       "weather_main            object\n",
       "weather_description     object\n",
       "date_time               object\n",
       "traffic_volume           int64\n",
       "dtype: object"
      ]
     },
     "execution_count": 4,
     "metadata": {},
     "output_type": "execute_result"
    }
   ],
   "source": [
    "df.dtypes"
   ]
  },
  {
   "cell_type": "markdown",
   "id": "d1f612e3-ae81-4cb2-b1ab-fa69d17e8f0e",
   "metadata": {},
   "source": [
    "Видим типы данных признаков из них:\n",
    "- object (4)\n",
    "- float64 (3)\n",
    "- int64 (2)"
   ]
  },
  {
   "cell_type": "code",
   "execution_count": 5,
   "id": "ad2c0735-1e14-4d49-b970-7943485e8b1f",
   "metadata": {},
   "outputs": [
    {
     "name": "stdout",
     "output_type": "stream",
     "text": [
      "<class 'pandas.core.frame.DataFrame'>\n",
      "RangeIndex: 48204 entries, 0 to 48203\n",
      "Data columns (total 9 columns):\n",
      " #   Column               Non-Null Count  Dtype  \n",
      "---  ------               --------------  -----  \n",
      " 0   holiday              61 non-null     object \n",
      " 1   temp                 48204 non-null  float64\n",
      " 2   rain_1h              48204 non-null  float64\n",
      " 3   snow_1h              48204 non-null  float64\n",
      " 4   clouds_all           48204 non-null  int64  \n",
      " 5   weather_main         48204 non-null  object \n",
      " 6   weather_description  48204 non-null  object \n",
      " 7   date_time            48204 non-null  object \n",
      " 8   traffic_volume       48204 non-null  int64  \n",
      "dtypes: float64(3), int64(2), object(4)\n",
      "memory usage: 3.3+ MB\n"
     ]
    }
   ],
   "source": [
    "df.info()"
   ]
  },
  {
   "cell_type": "markdown",
   "id": "0dddc265-1da2-4de3-a2ee-f47608fae3b0",
   "metadata": {},
   "source": [
    "Заметим очень много пропущенных значений в признаке holiday, надо что-то с этим сделать"
   ]
  },
  {
   "cell_type": "code",
   "execution_count": 6,
   "id": "298b4053-b9cd-43cb-9e52-3b2ef8719dd5",
   "metadata": {},
   "outputs": [],
   "source": [
    "# Заполняем пустые значение на Weekday\n",
    "df['holiday'] = df['holiday'].fillna('Weekday')"
   ]
  },
  {
   "cell_type": "code",
   "execution_count": 7,
   "id": "fb595ccb-2e98-4e1e-a635-84c530b1905a",
   "metadata": {},
   "outputs": [
    {
     "data": {
      "text/html": [
       "<div>\n",
       "<style scoped>\n",
       "    .dataframe tbody tr th:only-of-type {\n",
       "        vertical-align: middle;\n",
       "    }\n",
       "\n",
       "    .dataframe tbody tr th {\n",
       "        vertical-align: top;\n",
       "    }\n",
       "\n",
       "    .dataframe thead th {\n",
       "        text-align: right;\n",
       "    }\n",
       "</style>\n",
       "<table border=\"1\" class=\"dataframe\">\n",
       "  <thead>\n",
       "    <tr style=\"text-align: right;\">\n",
       "      <th></th>\n",
       "      <th>count</th>\n",
       "      <th>mean</th>\n",
       "      <th>std</th>\n",
       "      <th>min</th>\n",
       "      <th>25%</th>\n",
       "      <th>50%</th>\n",
       "      <th>75%</th>\n",
       "      <th>max</th>\n",
       "    </tr>\n",
       "  </thead>\n",
       "  <tbody>\n",
       "    <tr>\n",
       "      <th>temp</th>\n",
       "      <td>48204.0</td>\n",
       "      <td>281.205870</td>\n",
       "      <td>13.338232</td>\n",
       "      <td>0.0</td>\n",
       "      <td>272.16</td>\n",
       "      <td>282.45</td>\n",
       "      <td>291.806</td>\n",
       "      <td>310.07</td>\n",
       "    </tr>\n",
       "    <tr>\n",
       "      <th>rain_1h</th>\n",
       "      <td>48204.0</td>\n",
       "      <td>0.334264</td>\n",
       "      <td>44.789133</td>\n",
       "      <td>0.0</td>\n",
       "      <td>0.00</td>\n",
       "      <td>0.00</td>\n",
       "      <td>0.000</td>\n",
       "      <td>9831.30</td>\n",
       "    </tr>\n",
       "    <tr>\n",
       "      <th>snow_1h</th>\n",
       "      <td>48204.0</td>\n",
       "      <td>0.000222</td>\n",
       "      <td>0.008168</td>\n",
       "      <td>0.0</td>\n",
       "      <td>0.00</td>\n",
       "      <td>0.00</td>\n",
       "      <td>0.000</td>\n",
       "      <td>0.51</td>\n",
       "    </tr>\n",
       "    <tr>\n",
       "      <th>clouds_all</th>\n",
       "      <td>48204.0</td>\n",
       "      <td>49.362231</td>\n",
       "      <td>39.015750</td>\n",
       "      <td>0.0</td>\n",
       "      <td>1.00</td>\n",
       "      <td>64.00</td>\n",
       "      <td>90.000</td>\n",
       "      <td>100.00</td>\n",
       "    </tr>\n",
       "    <tr>\n",
       "      <th>traffic_volume</th>\n",
       "      <td>48204.0</td>\n",
       "      <td>3259.818355</td>\n",
       "      <td>1986.860670</td>\n",
       "      <td>0.0</td>\n",
       "      <td>1193.00</td>\n",
       "      <td>3380.00</td>\n",
       "      <td>4933.000</td>\n",
       "      <td>7280.00</td>\n",
       "    </tr>\n",
       "  </tbody>\n",
       "</table>\n",
       "</div>"
      ],
      "text/plain": [
       "                  count         mean          std  min      25%      50%  \\\n",
       "temp            48204.0   281.205870    13.338232  0.0   272.16   282.45   \n",
       "rain_1h         48204.0     0.334264    44.789133  0.0     0.00     0.00   \n",
       "snow_1h         48204.0     0.000222     0.008168  0.0     0.00     0.00   \n",
       "clouds_all      48204.0    49.362231    39.015750  0.0     1.00    64.00   \n",
       "traffic_volume  48204.0  3259.818355  1986.860670  0.0  1193.00  3380.00   \n",
       "\n",
       "                     75%      max  \n",
       "temp             291.806   310.07  \n",
       "rain_1h            0.000  9831.30  \n",
       "snow_1h            0.000     0.51  \n",
       "clouds_all        90.000   100.00  \n",
       "traffic_volume  4933.000  7280.00  "
      ]
     },
     "execution_count": 7,
     "metadata": {},
     "output_type": "execute_result"
    }
   ],
   "source": [
    "# Описание\n",
    "df.describe().T"
   ]
  },
  {
   "cell_type": "code",
   "execution_count": 8,
   "id": "147e03fd-ef49-48cd-924f-a686c4306fb3",
   "metadata": {},
   "outputs": [
    {
     "data": {
      "text/html": [
       "<div>\n",
       "<style scoped>\n",
       "    .dataframe tbody tr th:only-of-type {\n",
       "        vertical-align: middle;\n",
       "    }\n",
       "\n",
       "    .dataframe tbody tr th {\n",
       "        vertical-align: top;\n",
       "    }\n",
       "\n",
       "    .dataframe thead th {\n",
       "        text-align: right;\n",
       "    }\n",
       "</style>\n",
       "<table border=\"1\" class=\"dataframe\">\n",
       "  <thead>\n",
       "    <tr style=\"text-align: right;\">\n",
       "      <th></th>\n",
       "      <th>count</th>\n",
       "      <th>unique</th>\n",
       "      <th>top</th>\n",
       "      <th>freq</th>\n",
       "    </tr>\n",
       "  </thead>\n",
       "  <tbody>\n",
       "    <tr>\n",
       "      <th>holiday</th>\n",
       "      <td>48204</td>\n",
       "      <td>12</td>\n",
       "      <td>Weekday</td>\n",
       "      <td>48143</td>\n",
       "    </tr>\n",
       "    <tr>\n",
       "      <th>weather_main</th>\n",
       "      <td>48204</td>\n",
       "      <td>11</td>\n",
       "      <td>Clouds</td>\n",
       "      <td>15164</td>\n",
       "    </tr>\n",
       "    <tr>\n",
       "      <th>weather_description</th>\n",
       "      <td>48204</td>\n",
       "      <td>38</td>\n",
       "      <td>sky is clear</td>\n",
       "      <td>11665</td>\n",
       "    </tr>\n",
       "    <tr>\n",
       "      <th>date_time</th>\n",
       "      <td>48204</td>\n",
       "      <td>40575</td>\n",
       "      <td>2013-05-19 10:00:00</td>\n",
       "      <td>6</td>\n",
       "    </tr>\n",
       "  </tbody>\n",
       "</table>\n",
       "</div>"
      ],
      "text/plain": [
       "                     count unique                  top   freq\n",
       "holiday              48204     12              Weekday  48143\n",
       "weather_main         48204     11               Clouds  15164\n",
       "weather_description  48204     38         sky is clear  11665\n",
       "date_time            48204  40575  2013-05-19 10:00:00      6"
      ]
     },
     "execution_count": 8,
     "metadata": {},
     "output_type": "execute_result"
    }
   ],
   "source": [
    "# Описание\n",
    "df.describe(include='object').T"
   ]
  },
  {
   "cell_type": "markdown",
   "id": "8edc9775-889b-453d-ba25-bac161af81f9",
   "metadata": {},
   "source": [
    "Из вышеуказанного делаем выводы:\n",
    "- Минимальная температура: 0 градусов по Кельвину\n",
    "- Максимальна температура: 310 градусов по Кельвину\n",
    "- Средняя температура: 281 градусов по Кельвину\n",
    "- Максимальное кол-во осадков дождя: 9831 (очень похоже на аномалию, позже рассмотрим подробнее)\n",
    "- Минимальное кол-во осадков дождя: 0\n",
    "- Максимальное кол-во осадков снега: 0.51\n",
    "- Минимальное кол-во осадков снега: 0\n",
    "- Максимальный процент облачности: 100%\n",
    "- Минимальный процент облачности: 0%\n",
    "- Максимальный объем движения: 7280 человек\n",
    "- Минимальный объем движения: 0 человек\n",
    "- Больше всего данных собрали 19 мая 2013 года"
   ]
  },
  {
   "cell_type": "code",
   "execution_count": 9,
   "id": "35e1099d-1bbc-4a8c-91c1-462e1cc7bef8",
   "metadata": {},
   "outputs": [
    {
     "data": {
      "text/html": [
       "<div>\n",
       "<style scoped>\n",
       "    .dataframe tbody tr th:only-of-type {\n",
       "        vertical-align: middle;\n",
       "    }\n",
       "\n",
       "    .dataframe tbody tr th {\n",
       "        vertical-align: top;\n",
       "    }\n",
       "\n",
       "    .dataframe thead th {\n",
       "        text-align: right;\n",
       "    }\n",
       "</style>\n",
       "<table border=\"1\" class=\"dataframe\">\n",
       "  <thead>\n",
       "    <tr style=\"text-align: right;\">\n",
       "      <th></th>\n",
       "      <th>holiday</th>\n",
       "      <th>temp</th>\n",
       "      <th>rain_1h</th>\n",
       "      <th>snow_1h</th>\n",
       "      <th>clouds_all</th>\n",
       "      <th>weather_main</th>\n",
       "      <th>weather_description</th>\n",
       "      <th>date_time</th>\n",
       "      <th>traffic_volume</th>\n",
       "    </tr>\n",
       "  </thead>\n",
       "  <tbody>\n",
       "    <tr>\n",
       "      <th>11898</th>\n",
       "      <td>Weekday</td>\n",
       "      <td>0.0</td>\n",
       "      <td>0.0</td>\n",
       "      <td>0.0</td>\n",
       "      <td>0</td>\n",
       "      <td>Clear</td>\n",
       "      <td>sky is clear</td>\n",
       "      <td>2014-01-31 03:00:00</td>\n",
       "      <td>361</td>\n",
       "    </tr>\n",
       "    <tr>\n",
       "      <th>11899</th>\n",
       "      <td>Weekday</td>\n",
       "      <td>0.0</td>\n",
       "      <td>0.0</td>\n",
       "      <td>0.0</td>\n",
       "      <td>0</td>\n",
       "      <td>Clear</td>\n",
       "      <td>sky is clear</td>\n",
       "      <td>2014-01-31 04:00:00</td>\n",
       "      <td>734</td>\n",
       "    </tr>\n",
       "    <tr>\n",
       "      <th>11900</th>\n",
       "      <td>Weekday</td>\n",
       "      <td>0.0</td>\n",
       "      <td>0.0</td>\n",
       "      <td>0.0</td>\n",
       "      <td>0</td>\n",
       "      <td>Clear</td>\n",
       "      <td>sky is clear</td>\n",
       "      <td>2014-01-31 05:00:00</td>\n",
       "      <td>2557</td>\n",
       "    </tr>\n",
       "    <tr>\n",
       "      <th>11901</th>\n",
       "      <td>Weekday</td>\n",
       "      <td>0.0</td>\n",
       "      <td>0.0</td>\n",
       "      <td>0.0</td>\n",
       "      <td>0</td>\n",
       "      <td>Clear</td>\n",
       "      <td>sky is clear</td>\n",
       "      <td>2014-01-31 06:00:00</td>\n",
       "      <td>5150</td>\n",
       "    </tr>\n",
       "    <tr>\n",
       "      <th>11946</th>\n",
       "      <td>Weekday</td>\n",
       "      <td>0.0</td>\n",
       "      <td>0.0</td>\n",
       "      <td>0.0</td>\n",
       "      <td>0</td>\n",
       "      <td>Clear</td>\n",
       "      <td>sky is clear</td>\n",
       "      <td>2014-02-02 03:00:00</td>\n",
       "      <td>291</td>\n",
       "    </tr>\n",
       "    <tr>\n",
       "      <th>11947</th>\n",
       "      <td>Weekday</td>\n",
       "      <td>0.0</td>\n",
       "      <td>0.0</td>\n",
       "      <td>0.0</td>\n",
       "      <td>0</td>\n",
       "      <td>Clear</td>\n",
       "      <td>sky is clear</td>\n",
       "      <td>2014-02-02 04:00:00</td>\n",
       "      <td>284</td>\n",
       "    </tr>\n",
       "    <tr>\n",
       "      <th>11948</th>\n",
       "      <td>Weekday</td>\n",
       "      <td>0.0</td>\n",
       "      <td>0.0</td>\n",
       "      <td>0.0</td>\n",
       "      <td>0</td>\n",
       "      <td>Clear</td>\n",
       "      <td>sky is clear</td>\n",
       "      <td>2014-02-02 05:00:00</td>\n",
       "      <td>434</td>\n",
       "    </tr>\n",
       "    <tr>\n",
       "      <th>11949</th>\n",
       "      <td>Weekday</td>\n",
       "      <td>0.0</td>\n",
       "      <td>0.0</td>\n",
       "      <td>0.0</td>\n",
       "      <td>0</td>\n",
       "      <td>Clear</td>\n",
       "      <td>sky is clear</td>\n",
       "      <td>2014-02-02 06:00:00</td>\n",
       "      <td>739</td>\n",
       "    </tr>\n",
       "    <tr>\n",
       "      <th>11950</th>\n",
       "      <td>Weekday</td>\n",
       "      <td>0.0</td>\n",
       "      <td>0.0</td>\n",
       "      <td>0.0</td>\n",
       "      <td>0</td>\n",
       "      <td>Clear</td>\n",
       "      <td>sky is clear</td>\n",
       "      <td>2014-02-02 07:00:00</td>\n",
       "      <td>962</td>\n",
       "    </tr>\n",
       "    <tr>\n",
       "      <th>11951</th>\n",
       "      <td>Weekday</td>\n",
       "      <td>0.0</td>\n",
       "      <td>0.0</td>\n",
       "      <td>0.0</td>\n",
       "      <td>0</td>\n",
       "      <td>Clear</td>\n",
       "      <td>sky is clear</td>\n",
       "      <td>2014-02-02 08:00:00</td>\n",
       "      <td>1670</td>\n",
       "    </tr>\n",
       "  </tbody>\n",
       "</table>\n",
       "</div>"
      ],
      "text/plain": [
       "       holiday  temp  rain_1h  snow_1h  clouds_all weather_main  \\\n",
       "11898  Weekday   0.0      0.0      0.0           0        Clear   \n",
       "11899  Weekday   0.0      0.0      0.0           0        Clear   \n",
       "11900  Weekday   0.0      0.0      0.0           0        Clear   \n",
       "11901  Weekday   0.0      0.0      0.0           0        Clear   \n",
       "11946  Weekday   0.0      0.0      0.0           0        Clear   \n",
       "11947  Weekday   0.0      0.0      0.0           0        Clear   \n",
       "11948  Weekday   0.0      0.0      0.0           0        Clear   \n",
       "11949  Weekday   0.0      0.0      0.0           0        Clear   \n",
       "11950  Weekday   0.0      0.0      0.0           0        Clear   \n",
       "11951  Weekday   0.0      0.0      0.0           0        Clear   \n",
       "\n",
       "      weather_description            date_time  traffic_volume  \n",
       "11898        sky is clear  2014-01-31 03:00:00             361  \n",
       "11899        sky is clear  2014-01-31 04:00:00             734  \n",
       "11900        sky is clear  2014-01-31 05:00:00            2557  \n",
       "11901        sky is clear  2014-01-31 06:00:00            5150  \n",
       "11946        sky is clear  2014-02-02 03:00:00             291  \n",
       "11947        sky is clear  2014-02-02 04:00:00             284  \n",
       "11948        sky is clear  2014-02-02 05:00:00             434  \n",
       "11949        sky is clear  2014-02-02 06:00:00             739  \n",
       "11950        sky is clear  2014-02-02 07:00:00             962  \n",
       "11951        sky is clear  2014-02-02 08:00:00            1670  "
      ]
     },
     "execution_count": 9,
     "metadata": {},
     "output_type": "execute_result"
    }
   ],
   "source": [
    "df[df['temp'] == 0]"
   ]
  },
  {
   "cell_type": "code",
   "execution_count": 10,
   "id": "5eec6cae-1f49-411e-bdf1-16ef3151659a",
   "metadata": {},
   "outputs": [
    {
     "data": {
      "text/plain": [
       "(48204, 9)"
      ]
     },
     "execution_count": 10,
     "metadata": {},
     "output_type": "execute_result"
    }
   ],
   "source": [
    "df.shape"
   ]
  },
  {
   "cell_type": "markdown",
   "id": "f09eda89-9dd8-4932-9f07-3919494318d8",
   "metadata": {},
   "source": [
    "Удалим эти значения"
   ]
  },
  {
   "cell_type": "code",
   "execution_count": 11,
   "id": "11621ec6-6dbf-41ef-9ac6-82a1ba2c969c",
   "metadata": {},
   "outputs": [],
   "source": [
    "df = df.drop(df[df['temp'] < 240].index, axis=0)"
   ]
  },
  {
   "cell_type": "code",
   "execution_count": 12,
   "id": "878a4520-f5fe-49d0-9449-157195ba8cf5",
   "metadata": {},
   "outputs": [],
   "source": [
    "df = df.drop(df[df['rain_1h'] > 5000].index, axis=0)"
   ]
  },
  {
   "cell_type": "code",
   "execution_count": 13,
   "id": "0ebd0b7d-1cdc-4a4a-8444-1e78dee00214",
   "metadata": {},
   "outputs": [
    {
     "data": {
      "text/plain": [
       "(48193, 9)"
      ]
     },
     "execution_count": 13,
     "metadata": {},
     "output_type": "execute_result"
    }
   ],
   "source": [
    "df.shape"
   ]
  },
  {
   "cell_type": "code",
   "execution_count": 14,
   "id": "ed47b3f7-b7b3-4353-bb62-07e1312a11f2",
   "metadata": {},
   "outputs": [
    {
     "data": {
      "text/html": [
       "<div>\n",
       "<style scoped>\n",
       "    .dataframe tbody tr th:only-of-type {\n",
       "        vertical-align: middle;\n",
       "    }\n",
       "\n",
       "    .dataframe tbody tr th {\n",
       "        vertical-align: top;\n",
       "    }\n",
       "\n",
       "    .dataframe thead th {\n",
       "        text-align: right;\n",
       "    }\n",
       "</style>\n",
       "<table border=\"1\" class=\"dataframe\">\n",
       "  <thead>\n",
       "    <tr style=\"text-align: right;\">\n",
       "      <th></th>\n",
       "      <th>count</th>\n",
       "      <th>mean</th>\n",
       "      <th>std</th>\n",
       "      <th>min</th>\n",
       "      <th>25%</th>\n",
       "      <th>50%</th>\n",
       "      <th>75%</th>\n",
       "      <th>max</th>\n",
       "    </tr>\n",
       "  </thead>\n",
       "  <tbody>\n",
       "    <tr>\n",
       "      <th>temp</th>\n",
       "      <td>48193.0</td>\n",
       "      <td>281.263786</td>\n",
       "      <td>12.709364</td>\n",
       "      <td>243.39</td>\n",
       "      <td>272.18</td>\n",
       "      <td>282.46</td>\n",
       "      <td>291.81</td>\n",
       "      <td>310.07</td>\n",
       "    </tr>\n",
       "    <tr>\n",
       "      <th>rain_1h</th>\n",
       "      <td>48193.0</td>\n",
       "      <td>0.130342</td>\n",
       "      <td>1.003480</td>\n",
       "      <td>0.00</td>\n",
       "      <td>0.00</td>\n",
       "      <td>0.00</td>\n",
       "      <td>0.00</td>\n",
       "      <td>55.63</td>\n",
       "    </tr>\n",
       "    <tr>\n",
       "      <th>snow_1h</th>\n",
       "      <td>48193.0</td>\n",
       "      <td>0.000222</td>\n",
       "      <td>0.008169</td>\n",
       "      <td>0.00</td>\n",
       "      <td>0.00</td>\n",
       "      <td>0.00</td>\n",
       "      <td>0.00</td>\n",
       "      <td>0.51</td>\n",
       "    </tr>\n",
       "    <tr>\n",
       "      <th>clouds_all</th>\n",
       "      <td>48193.0</td>\n",
       "      <td>49.371942</td>\n",
       "      <td>39.013548</td>\n",
       "      <td>0.00</td>\n",
       "      <td>1.00</td>\n",
       "      <td>64.00</td>\n",
       "      <td>90.00</td>\n",
       "      <td>100.00</td>\n",
       "    </tr>\n",
       "    <tr>\n",
       "      <th>traffic_volume</th>\n",
       "      <td>48193.0</td>\n",
       "      <td>3260.174029</td>\n",
       "      <td>1986.754010</td>\n",
       "      <td>0.00</td>\n",
       "      <td>1194.00</td>\n",
       "      <td>3380.00</td>\n",
       "      <td>4933.00</td>\n",
       "      <td>7280.00</td>\n",
       "    </tr>\n",
       "  </tbody>\n",
       "</table>\n",
       "</div>"
      ],
      "text/plain": [
       "                  count         mean          std     min      25%      50%  \\\n",
       "temp            48193.0   281.263786    12.709364  243.39   272.18   282.46   \n",
       "rain_1h         48193.0     0.130342     1.003480    0.00     0.00     0.00   \n",
       "snow_1h         48193.0     0.000222     0.008169    0.00     0.00     0.00   \n",
       "clouds_all      48193.0    49.371942    39.013548    0.00     1.00    64.00   \n",
       "traffic_volume  48193.0  3260.174029  1986.754010    0.00  1194.00  3380.00   \n",
       "\n",
       "                    75%      max  \n",
       "temp             291.81   310.07  \n",
       "rain_1h            0.00    55.63  \n",
       "snow_1h            0.00     0.51  \n",
       "clouds_all        90.00   100.00  \n",
       "traffic_volume  4933.00  7280.00  "
      ]
     },
     "execution_count": 14,
     "metadata": {},
     "output_type": "execute_result"
    }
   ],
   "source": [
    "# Описание\n",
    "df.describe().T"
   ]
  },
  {
   "cell_type": "markdown",
   "id": "c7a52242-9480-416b-986a-d0b0b9db29fe",
   "metadata": {},
   "source": [
    "## Описание данных\n",
    "- holiday - национальные праздники США и региональный праздник, Ярмарка штата Миннесота\n",
    "- temp - Средняя температура в Кельвинах\n",
    "- rain_1h - Количество осадков в мм, выпавших за час\n",
    "- snow_1h - Количество снега в мм, выпавшее за час\n",
    "- clouds_all - Процент облачности\n",
    "- weather_main - Краткое текстовое описание текущей погоды\n",
    "- weather_description - Более подробное текстовое описание текущей погоды.\n",
    "- date_time - Час сбора данных по местному времени CST.\n",
    "- traffic_volume - Ежечасно I-94 ATR 301 сообщал об объеме движения в западном направлении."
   ]
  },
  {
   "cell_type": "markdown",
   "id": "24f9aedc-6cd7-4da8-8d74-5cf6432433f8",
   "metadata": {},
   "source": [
    "Целевая переменная - traffic_volume"
   ]
  },
  {
   "cell_type": "code",
   "execution_count": 15,
   "id": "68d0f909-ba05-4c13-9d8b-957943871c7a",
   "metadata": {},
   "outputs": [
    {
     "data": {
      "text/plain": [
       "array([[<Axes: title={'center': 'temp'}>,\n",
       "        <Axes: title={'center': 'rain_1h'}>],\n",
       "       [<Axes: title={'center': 'snow_1h'}>,\n",
       "        <Axes: title={'center': 'clouds_all'}>],\n",
       "       [<Axes: title={'center': 'traffic_volume'}>, <Axes: >]],\n",
       "      dtype=object)"
      ]
     },
     "execution_count": 15,
     "metadata": {},
     "output_type": "execute_result"
    },
    {
     "data": {
      "image/png": "[encoded data removed]",
      "text/plain": [
       "<Figure size 640x480 with 6 Axes>"
      ]
     },
     "metadata": {},
     "output_type": "display_data"
    }
   ],
   "source": [
    "df.hist() # hist - показывает плотность распределения"
   ]
  },
  {
   "cell_type": "code",
   "execution_count": 16,
   "id": "c18fd5cb-b1f9-45c8-9892-e819e1a6d530",
   "metadata": {},
   "outputs": [],
   "source": [
    "from statsmodels.graphics.gofplots import qqplot\n",
    "from matplotlib import pyplot"
   ]
  },
  {
   "cell_type": "code",
   "execution_count": 17,
   "id": "6d7a8522-34b1-4345-a245-b881493533a1",
   "metadata": {},
   "outputs": [
    {
     "data": {
      "image/png": "[encoded data removed]",
      "text/plain": [
       "<Figure size 640x480 with 1 Axes>"
      ]
     },
     "metadata": {},
     "output_type": "display_data"
    },
    {
     "data": {
      "image/png": "[encoded data removed]",
      "text/plain": [
       "<Figure size 640x480 with 1 Axes>"
      ]
     },
     "metadata": {},
     "output_type": "display_data"
    },
    {
     "data": {
      "image/png": "[encoded data removed]",
      "text/plain": [
       "<Figure size 640x480 with 1 Axes>"
      ]
     },
     "metadata": {},
     "output_type": "display_data"
    }
   ],
   "source": [
    "for i in df.select_dtypes(include=['float64', 'int32']):\n",
    "    qqplot(df[i], line='s') # qqplot - нормальность распределения"
   ]
  },
  {
   "cell_type": "code",
   "execution_count": 18,
   "id": "011d63c0-195d-418f-b20a-f8cb452d2d18",
   "metadata": {},
   "outputs": [
    {
     "data": {
      "text/plain": [
       "<Axes: xlabel='temp'>"
      ]
     },
     "execution_count": 18,
     "metadata": {},
     "output_type": "execute_result"
    },
    {
     "data": {
      "image/png": "[encoded data removed]",
      "text/plain": [
       "<Figure size 640x480 with 1 Axes>"
      ]
     },
     "metadata": {},
     "output_type": "display_data"
    }
   ],
   "source": [
    "sns.boxplot(x=df[\"temp\"]) # boxplot - выбросы и частоту конкретных значений"
   ]
  },
  {
   "cell_type": "code",
   "execution_count": 19,
   "id": "b7c361d1-60b7-4fa9-9fd8-12081993ec86",
   "metadata": {},
   "outputs": [
    {
     "data": {
      "text/plain": [
       "<Axes: xlabel='traffic_volume'>"
      ]
     },
     "execution_count": 19,
     "metadata": {},
     "output_type": "execute_result"
    },
    {
     "data": {
      "image/png": "[encoded data removed]",
      "text/plain": [
       "<Figure size 640x480 with 1 Axes>"
      ]
     },
     "metadata": {},
     "output_type": "display_data"
    }
   ],
   "source": [
    "sns.boxplot(x=df[\"traffic_volume\"])"
   ]
  },
  {
   "cell_type": "code",
   "execution_count": 20,
   "id": "5c5d53ad-a193-40f9-9c93-2eebab147cc7",
   "metadata": {},
   "outputs": [],
   "source": [
    "from scipy.stats import shapiro\n",
    "from scipy.stats import normaltest\n",
    "def normal_analyz(column):\r\n",
    "    plt.figure(figsize=(20, 20))\r\n",
    "    qqplot(data=column, line='s')\r\n",
    "    plt.title(column.name)\r\n",
    "    plt.show()\r\n",
    "\r\n",
    "    print(f'Ассиметрия - {column.skew()}')\r\n",
    "    print(f'Коэффицент эксцесса - {column.kurtosis()}')\r\n",
    "\r\n",
    "    shapiro_test_res = shapiro(column)\r\n",
    "    print(f'Результаты теста Шапиро: p-value - {shapiro_test_res.pvalue}\\n\\n')"
   ]
  },
  {
   "cell_type": "code",
   "execution_count": 21,
   "id": "1baf3b83-4122-4cb1-9178-04c37af4429e",
   "metadata": {},
   "outputs": [
    {
     "data": {
      "text/plain": [
       "<Figure size 2000x2000 with 0 Axes>"
      ]
     },
     "metadata": {},
     "output_type": "display_data"
    },
    {
     "data": {
      "image/png": "[encoded data removed]",
      "text/plain": [
       "<Figure size 640x480 with 1 Axes>"
      ]
     },
     "metadata": {},
     "output_type": "display_data"
    },
    {
     "name": "stdout",
     "output_type": "stream",
     "text": [
      "Ассиметрия - -0.36421052204502175\n",
      "Коэффицент эксцесса - -0.6585070555688151\n",
      "Результаты теста Шапиро: p-value - 0.0\n",
      "\n",
      "\n"
     ]
    }
   ],
   "source": [
    "normal_analyz(df['temp'])"
   ]
  },
  {
   "cell_type": "code",
   "execution_count": 22,
   "id": "010e2dcc-6ef7-4f49-8cfb-0f363671ceb5",
   "metadata": {},
   "outputs": [
    {
     "data": {
      "text/html": [
       "<div>\n",
       "<style scoped>\n",
       "    .dataframe tbody tr th:only-of-type {\n",
       "        vertical-align: middle;\n",
       "    }\n",
       "\n",
       "    .dataframe tbody tr th {\n",
       "        vertical-align: top;\n",
       "    }\n",
       "\n",
       "    .dataframe thead th {\n",
       "        text-align: right;\n",
       "    }\n",
       "</style>\n",
       "<table border=\"1\" class=\"dataframe\">\n",
       "  <thead>\n",
       "    <tr style=\"text-align: right;\">\n",
       "      <th></th>\n",
       "      <th>traffic_volume</th>\n",
       "    </tr>\n",
       "    <tr>\n",
       "      <th>weather_main</th>\n",
       "      <th></th>\n",
       "    </tr>\n",
       "  </thead>\n",
       "  <tbody>\n",
       "    <tr>\n",
       "      <th>Clear</th>\n",
       "      <td>3057.207458</td>\n",
       "    </tr>\n",
       "    <tr>\n",
       "      <th>Clouds</th>\n",
       "      <td>3618.449749</td>\n",
       "    </tr>\n",
       "    <tr>\n",
       "      <th>Drizzle</th>\n",
       "      <td>3290.727073</td>\n",
       "    </tr>\n",
       "    <tr>\n",
       "      <th>Fog</th>\n",
       "      <td>2703.720395</td>\n",
       "    </tr>\n",
       "    <tr>\n",
       "      <th>Haze</th>\n",
       "      <td>3502.101471</td>\n",
       "    </tr>\n",
       "    <tr>\n",
       "      <th>Mist</th>\n",
       "      <td>2932.956639</td>\n",
       "    </tr>\n",
       "    <tr>\n",
       "      <th>Rain</th>\n",
       "      <td>3317.514548</td>\n",
       "    </tr>\n",
       "    <tr>\n",
       "      <th>Smoke</th>\n",
       "      <td>3237.650000</td>\n",
       "    </tr>\n",
       "    <tr>\n",
       "      <th>Snow</th>\n",
       "      <td>3016.844228</td>\n",
       "    </tr>\n",
       "    <tr>\n",
       "      <th>Squall</th>\n",
       "      <td>2061.750000</td>\n",
       "    </tr>\n",
       "    <tr>\n",
       "      <th>Thunderstorm</th>\n",
       "      <td>3001.620890</td>\n",
       "    </tr>\n",
       "  </tbody>\n",
       "</table>\n",
       "</div>"
      ],
      "text/plain": [
       "              traffic_volume\n",
       "weather_main                \n",
       "Clear            3057.207458\n",
       "Clouds           3618.449749\n",
       "Drizzle          3290.727073\n",
       "Fog              2703.720395\n",
       "Haze             3502.101471\n",
       "Mist             2932.956639\n",
       "Rain             3317.514548\n",
       "Smoke            3237.650000\n",
       "Snow             3016.844228\n",
       "Squall           2061.750000\n",
       "Thunderstorm     3001.620890"
      ]
     },
     "execution_count": 22,
     "metadata": {},
     "output_type": "execute_result"
    }
   ],
   "source": [
    "# Смотрим в какую погоду какое среднее кол-во трафика проходит в метро \n",
    "# (Общая загруженность станций)\n",
    "df[['weather_main', 'traffic_volume']].groupby(['weather_main']).mean()"
   ]
  },
  {
   "cell_type": "code",
   "execution_count": 23,
   "id": "8d5d8f61-f807-4bdd-85bd-9b6c95cb4df7",
   "metadata": {},
   "outputs": [
    {
     "data": {
      "text/plain": [
       "17"
      ]
     },
     "execution_count": 23,
     "metadata": {},
     "output_type": "execute_result"
    }
   ],
   "source": [
    "# Поиск дубликатов\n",
    "df.duplicated().sum()"
   ]
  },
  {
   "cell_type": "code",
   "execution_count": 24,
   "id": "7f9b7f19-28e9-45c4-8a7e-89776f4cc911",
   "metadata": {},
   "outputs": [
    {
     "data": {
      "text/plain": [
       "(48176, 9)"
      ]
     },
     "execution_count": 24,
     "metadata": {},
     "output_type": "execute_result"
    }
   ],
   "source": [
    "# Удалим дубликаты\n",
    "df.drop_duplicates(inplace=True)\n",
    "df = df.reset_index(drop=True)\n",
    "df.shape"
   ]
  },
  {
   "cell_type": "code",
   "execution_count": 25,
   "id": "92427370-0c01-4828-ad4d-a8140e038615",
   "metadata": {},
   "outputs": [],
   "source": [
    "df['date_time'] = df['date_time'].astype('datetime64[ns]')"
   ]
  },
  {
   "cell_type": "code",
   "execution_count": 26,
   "id": "3354441c-3826-4167-aae1-889bfbfe42a0",
   "metadata": {},
   "outputs": [
    {
     "data": {
      "text/html": [
       "<div>\n",
       "<style scoped>\n",
       "    .dataframe tbody tr th:only-of-type {\n",
       "        vertical-align: middle;\n",
       "    }\n",
       "\n",
       "    .dataframe tbody tr th {\n",
       "        vertical-align: top;\n",
       "    }\n",
       "\n",
       "    .dataframe thead th {\n",
       "        text-align: right;\n",
       "    }\n",
       "</style>\n",
       "<table border=\"1\" class=\"dataframe\">\n",
       "  <thead>\n",
       "    <tr style=\"text-align: right;\">\n",
       "      <th></th>\n",
       "      <th>holiday</th>\n",
       "      <th>temp</th>\n",
       "      <th>rain_1h</th>\n",
       "      <th>snow_1h</th>\n",
       "      <th>clouds_all</th>\n",
       "      <th>weather_main</th>\n",
       "      <th>weather_description</th>\n",
       "      <th>date_time</th>\n",
       "      <th>traffic_volume</th>\n",
       "    </tr>\n",
       "  </thead>\n",
       "  <tbody>\n",
       "    <tr>\n",
       "      <th>0</th>\n",
       "      <td>Weekday</td>\n",
       "      <td>288.28</td>\n",
       "      <td>0.0</td>\n",
       "      <td>0.0</td>\n",
       "      <td>40</td>\n",
       "      <td>Clouds</td>\n",
       "      <td>scattered clouds</td>\n",
       "      <td>2012-10-02 09:00:00</td>\n",
       "      <td>5545</td>\n",
       "    </tr>\n",
       "    <tr>\n",
       "      <th>1</th>\n",
       "      <td>Weekday</td>\n",
       "      <td>289.36</td>\n",
       "      <td>0.0</td>\n",
       "      <td>0.0</td>\n",
       "      <td>75</td>\n",
       "      <td>Clouds</td>\n",
       "      <td>broken clouds</td>\n",
       "      <td>2012-10-02 10:00:00</td>\n",
       "      <td>4516</td>\n",
       "    </tr>\n",
       "    <tr>\n",
       "      <th>2</th>\n",
       "      <td>Weekday</td>\n",
       "      <td>289.58</td>\n",
       "      <td>0.0</td>\n",
       "      <td>0.0</td>\n",
       "      <td>90</td>\n",
       "      <td>Clouds</td>\n",
       "      <td>overcast clouds</td>\n",
       "      <td>2012-10-02 11:00:00</td>\n",
       "      <td>4767</td>\n",
       "    </tr>\n",
       "    <tr>\n",
       "      <th>3</th>\n",
       "      <td>Weekday</td>\n",
       "      <td>290.13</td>\n",
       "      <td>0.0</td>\n",
       "      <td>0.0</td>\n",
       "      <td>90</td>\n",
       "      <td>Clouds</td>\n",
       "      <td>overcast clouds</td>\n",
       "      <td>2012-10-02 12:00:00</td>\n",
       "      <td>5026</td>\n",
       "    </tr>\n",
       "    <tr>\n",
       "      <th>4</th>\n",
       "      <td>Weekday</td>\n",
       "      <td>291.14</td>\n",
       "      <td>0.0</td>\n",
       "      <td>0.0</td>\n",
       "      <td>75</td>\n",
       "      <td>Clouds</td>\n",
       "      <td>broken clouds</td>\n",
       "      <td>2012-10-02 13:00:00</td>\n",
       "      <td>4918</td>\n",
       "    </tr>\n",
       "    <tr>\n",
       "      <th>...</th>\n",
       "      <td>...</td>\n",
       "      <td>...</td>\n",
       "      <td>...</td>\n",
       "      <td>...</td>\n",
       "      <td>...</td>\n",
       "      <td>...</td>\n",
       "      <td>...</td>\n",
       "      <td>...</td>\n",
       "      <td>...</td>\n",
       "    </tr>\n",
       "    <tr>\n",
       "      <th>48171</th>\n",
       "      <td>Weekday</td>\n",
       "      <td>283.45</td>\n",
       "      <td>0.0</td>\n",
       "      <td>0.0</td>\n",
       "      <td>75</td>\n",
       "      <td>Clouds</td>\n",
       "      <td>broken clouds</td>\n",
       "      <td>2018-09-30 19:00:00</td>\n",
       "      <td>3543</td>\n",
       "    </tr>\n",
       "    <tr>\n",
       "      <th>48172</th>\n",
       "      <td>Weekday</td>\n",
       "      <td>282.76</td>\n",
       "      <td>0.0</td>\n",
       "      <td>0.0</td>\n",
       "      <td>90</td>\n",
       "      <td>Clouds</td>\n",
       "      <td>overcast clouds</td>\n",
       "      <td>2018-09-30 20:00:00</td>\n",
       "      <td>2781</td>\n",
       "    </tr>\n",
       "    <tr>\n",
       "      <th>48173</th>\n",
       "      <td>Weekday</td>\n",
       "      <td>282.73</td>\n",
       "      <td>0.0</td>\n",
       "      <td>0.0</td>\n",
       "      <td>90</td>\n",
       "      <td>Thunderstorm</td>\n",
       "      <td>proximity thunderstorm</td>\n",
       "      <td>2018-09-30 21:00:00</td>\n",
       "      <td>2159</td>\n",
       "    </tr>\n",
       "    <tr>\n",
       "      <th>48174</th>\n",
       "      <td>Weekday</td>\n",
       "      <td>282.09</td>\n",
       "      <td>0.0</td>\n",
       "      <td>0.0</td>\n",
       "      <td>90</td>\n",
       "      <td>Clouds</td>\n",
       "      <td>overcast clouds</td>\n",
       "      <td>2018-09-30 22:00:00</td>\n",
       "      <td>1450</td>\n",
       "    </tr>\n",
       "    <tr>\n",
       "      <th>48175</th>\n",
       "      <td>Weekday</td>\n",
       "      <td>282.12</td>\n",
       "      <td>0.0</td>\n",
       "      <td>0.0</td>\n",
       "      <td>90</td>\n",
       "      <td>Clouds</td>\n",
       "      <td>overcast clouds</td>\n",
       "      <td>2018-09-30 23:00:00</td>\n",
       "      <td>954</td>\n",
       "    </tr>\n",
       "  </tbody>\n",
       "</table>\n",
       "<p>48176 rows × 9 columns</p>\n",
       "</div>"
      ],
      "text/plain": [
       "       holiday    temp  rain_1h  snow_1h  clouds_all  weather_main  \\\n",
       "0      Weekday  288.28      0.0      0.0          40        Clouds   \n",
       "1      Weekday  289.36      0.0      0.0          75        Clouds   \n",
       "2      Weekday  289.58      0.0      0.0          90        Clouds   \n",
       "3      Weekday  290.13      0.0      0.0          90        Clouds   \n",
       "4      Weekday  291.14      0.0      0.0          75        Clouds   \n",
       "...        ...     ...      ...      ...         ...           ...   \n",
       "48171  Weekday  283.45      0.0      0.0          75        Clouds   \n",
       "48172  Weekday  282.76      0.0      0.0          90        Clouds   \n",
       "48173  Weekday  282.73      0.0      0.0          90  Thunderstorm   \n",
       "48174  Weekday  282.09      0.0      0.0          90        Clouds   \n",
       "48175  Weekday  282.12      0.0      0.0          90        Clouds   \n",
       "\n",
       "          weather_description           date_time  traffic_volume  \n",
       "0            scattered clouds 2012-10-02 09:00:00            5545  \n",
       "1               broken clouds 2012-10-02 10:00:00            4516  \n",
       "2             overcast clouds 2012-10-02 11:00:00            4767  \n",
       "3             overcast clouds 2012-10-02 12:00:00            5026  \n",
       "4               broken clouds 2012-10-02 13:00:00            4918  \n",
       "...                       ...                 ...             ...  \n",
       "48171           broken clouds 2018-09-30 19:00:00            3543  \n",
       "48172         overcast clouds 2018-09-30 20:00:00            2781  \n",
       "48173  proximity thunderstorm 2018-09-30 21:00:00            2159  \n",
       "48174         overcast clouds 2018-09-30 22:00:00            1450  \n",
       "48175         overcast clouds 2018-09-30 23:00:00             954  \n",
       "\n",
       "[48176 rows x 9 columns]"
      ]
     },
     "execution_count": 26,
     "metadata": {},
     "output_type": "execute_result"
    }
   ],
   "source": [
    "df"
   ]
  },
  {
   "cell_type": "code",
   "execution_count": 27,
   "id": "7bce40f8-25ba-4d03-a1d9-db45b3604bff",
   "metadata": {},
   "outputs": [],
   "source": [
    "df.to_csv('metrodf.csv')"
   ]
  },
  {
   "cell_type": "markdown",
   "id": "b451ffdf-074c-4d28-a6fd-855d789aca5b",
   "metadata": {},
   "source": [
    "# Кластеризация"
   ]
  },
  {
   "cell_type": "code",
   "execution_count": 28,
   "id": "71f057d6-278e-460f-a887-6b47d73d2cc7",
   "metadata": {},
   "outputs": [
    {
     "data": {
      "text/html": [
       "<div>\n",
       "<style scoped>\n",
       "    .dataframe tbody tr th:only-of-type {\n",
       "        vertical-align: middle;\n",
       "    }\n",
       "\n",
       "    .dataframe tbody tr th {\n",
       "        vertical-align: top;\n",
       "    }\n",
       "\n",
       "    .dataframe thead th {\n",
       "        text-align: right;\n",
       "    }\n",
       "</style>\n",
       "<table border=\"1\" class=\"dataframe\">\n",
       "  <thead>\n",
       "    <tr style=\"text-align: right;\">\n",
       "      <th></th>\n",
       "      <th>temp</th>\n",
       "      <th>rain_1h</th>\n",
       "      <th>snow_1h</th>\n",
       "      <th>clouds_all</th>\n",
       "      <th>traffic_volume</th>\n",
       "      <th>holiday_Christmas Day</th>\n",
       "      <th>holiday_Columbus Day</th>\n",
       "      <th>holiday_Independence Day</th>\n",
       "      <th>holiday_Labor Day</th>\n",
       "      <th>holiday_Martin Luther King Jr Day</th>\n",
       "      <th>...</th>\n",
       "      <th>weather_description_sleet</th>\n",
       "      <th>weather_description_smoke</th>\n",
       "      <th>weather_description_snow</th>\n",
       "      <th>weather_description_thunderstorm</th>\n",
       "      <th>weather_description_thunderstorm with drizzle</th>\n",
       "      <th>weather_description_thunderstorm with heavy rain</th>\n",
       "      <th>weather_description_thunderstorm with light drizzle</th>\n",
       "      <th>weather_description_thunderstorm with light rain</th>\n",
       "      <th>weather_description_thunderstorm with rain</th>\n",
       "      <th>weather_description_very heavy rain</th>\n",
       "    </tr>\n",
       "  </thead>\n",
       "  <tbody>\n",
       "    <tr>\n",
       "      <th>0</th>\n",
       "      <td>288.28</td>\n",
       "      <td>0.0</td>\n",
       "      <td>0.0</td>\n",
       "      <td>40</td>\n",
       "      <td>5545</td>\n",
       "      <td>0</td>\n",
       "      <td>0</td>\n",
       "      <td>0</td>\n",
       "      <td>0</td>\n",
       "      <td>0</td>\n",
       "      <td>...</td>\n",
       "      <td>0</td>\n",
       "      <td>0</td>\n",
       "      <td>0</td>\n",
       "      <td>0</td>\n",
       "      <td>0</td>\n",
       "      <td>0</td>\n",
       "      <td>0</td>\n",
       "      <td>0</td>\n",
       "      <td>0</td>\n",
       "      <td>0</td>\n",
       "    </tr>\n",
       "    <tr>\n",
       "      <th>1</th>\n",
       "      <td>289.36</td>\n",
       "      <td>0.0</td>\n",
       "      <td>0.0</td>\n",
       "      <td>75</td>\n",
       "      <td>4516</td>\n",
       "      <td>0</td>\n",
       "      <td>0</td>\n",
       "      <td>0</td>\n",
       "      <td>0</td>\n",
       "      <td>0</td>\n",
       "      <td>...</td>\n",
       "      <td>0</td>\n",
       "      <td>0</td>\n",
       "      <td>0</td>\n",
       "      <td>0</td>\n",
       "      <td>0</td>\n",
       "      <td>0</td>\n",
       "      <td>0</td>\n",
       "      <td>0</td>\n",
       "      <td>0</td>\n",
       "      <td>0</td>\n",
       "    </tr>\n",
       "    <tr>\n",
       "      <th>2</th>\n",
       "      <td>289.58</td>\n",
       "      <td>0.0</td>\n",
       "      <td>0.0</td>\n",
       "      <td>90</td>\n",
       "      <td>4767</td>\n",
       "      <td>0</td>\n",
       "      <td>0</td>\n",
       "      <td>0</td>\n",
       "      <td>0</td>\n",
       "      <td>0</td>\n",
       "      <td>...</td>\n",
       "      <td>0</td>\n",
       "      <td>0</td>\n",
       "      <td>0</td>\n",
       "      <td>0</td>\n",
       "      <td>0</td>\n",
       "      <td>0</td>\n",
       "      <td>0</td>\n",
       "      <td>0</td>\n",
       "      <td>0</td>\n",
       "      <td>0</td>\n",
       "    </tr>\n",
       "    <tr>\n",
       "      <th>3</th>\n",
       "      <td>290.13</td>\n",
       "      <td>0.0</td>\n",
       "      <td>0.0</td>\n",
       "      <td>90</td>\n",
       "      <td>5026</td>\n",
       "      <td>0</td>\n",
       "      <td>0</td>\n",
       "      <td>0</td>\n",
       "      <td>0</td>\n",
       "      <td>0</td>\n",
       "      <td>...</td>\n",
       "      <td>0</td>\n",
       "      <td>0</td>\n",
       "      <td>0</td>\n",
       "      <td>0</td>\n",
       "      <td>0</td>\n",
       "      <td>0</td>\n",
       "      <td>0</td>\n",
       "      <td>0</td>\n",
       "      <td>0</td>\n",
       "      <td>0</td>\n",
       "    </tr>\n",
       "    <tr>\n",
       "      <th>4</th>\n",
       "      <td>291.14</td>\n",
       "      <td>0.0</td>\n",
       "      <td>0.0</td>\n",
       "      <td>75</td>\n",
       "      <td>4918</td>\n",
       "      <td>0</td>\n",
       "      <td>0</td>\n",
       "      <td>0</td>\n",
       "      <td>0</td>\n",
       "      <td>0</td>\n",
       "      <td>...</td>\n",
       "      <td>0</td>\n",
       "      <td>0</td>\n",
       "      <td>0</td>\n",
       "      <td>0</td>\n",
       "      <td>0</td>\n",
       "      <td>0</td>\n",
       "      <td>0</td>\n",
       "      <td>0</td>\n",
       "      <td>0</td>\n",
       "      <td>0</td>\n",
       "    </tr>\n",
       "    <tr>\n",
       "      <th>...</th>\n",
       "      <td>...</td>\n",
       "      <td>...</td>\n",
       "      <td>...</td>\n",
       "      <td>...</td>\n",
       "      <td>...</td>\n",
       "      <td>...</td>\n",
       "      <td>...</td>\n",
       "      <td>...</td>\n",
       "      <td>...</td>\n",
       "      <td>...</td>\n",
       "      <td>...</td>\n",
       "      <td>...</td>\n",
       "      <td>...</td>\n",
       "      <td>...</td>\n",
       "      <td>...</td>\n",
       "      <td>...</td>\n",
       "      <td>...</td>\n",
       "      <td>...</td>\n",
       "      <td>...</td>\n",
       "      <td>...</td>\n",
       "      <td>...</td>\n",
       "    </tr>\n",
       "    <tr>\n",
       "      <th>48171</th>\n",
       "      <td>283.45</td>\n",
       "      <td>0.0</td>\n",
       "      <td>0.0</td>\n",
       "      <td>75</td>\n",
       "      <td>3543</td>\n",
       "      <td>0</td>\n",
       "      <td>0</td>\n",
       "      <td>0</td>\n",
       "      <td>0</td>\n",
       "      <td>0</td>\n",
       "      <td>...</td>\n",
       "      <td>0</td>\n",
       "      <td>0</td>\n",
       "      <td>0</td>\n",
       "      <td>0</td>\n",
       "      <td>0</td>\n",
       "      <td>0</td>\n",
       "      <td>0</td>\n",
       "      <td>0</td>\n",
       "      <td>0</td>\n",
       "      <td>0</td>\n",
       "    </tr>\n",
       "    <tr>\n",
       "      <th>48172</th>\n",
       "      <td>282.76</td>\n",
       "      <td>0.0</td>\n",
       "      <td>0.0</td>\n",
       "      <td>90</td>\n",
       "      <td>2781</td>\n",
       "      <td>0</td>\n",
       "      <td>0</td>\n",
       "      <td>0</td>\n",
       "      <td>0</td>\n",
       "      <td>0</td>\n",
       "      <td>...</td>\n",
       "      <td>0</td>\n",
       "      <td>0</td>\n",
       "      <td>0</td>\n",
       "      <td>0</td>\n",
       "      <td>0</td>\n",
       "      <td>0</td>\n",
       "      <td>0</td>\n",
       "      <td>0</td>\n",
       "      <td>0</td>\n",
       "      <td>0</td>\n",
       "    </tr>\n",
       "    <tr>\n",
       "      <th>48173</th>\n",
       "      <td>282.73</td>\n",
       "      <td>0.0</td>\n",
       "      <td>0.0</td>\n",
       "      <td>90</td>\n",
       "      <td>2159</td>\n",
       "      <td>0</td>\n",
       "      <td>0</td>\n",
       "      <td>0</td>\n",
       "      <td>0</td>\n",
       "      <td>0</td>\n",
       "      <td>...</td>\n",
       "      <td>0</td>\n",
       "      <td>0</td>\n",
       "      <td>0</td>\n",
       "      <td>0</td>\n",
       "      <td>0</td>\n",
       "      <td>0</td>\n",
       "      <td>0</td>\n",
       "      <td>0</td>\n",
       "      <td>0</td>\n",
       "      <td>0</td>\n",
       "    </tr>\n",
       "    <tr>\n",
       "      <th>48174</th>\n",
       "      <td>282.09</td>\n",
       "      <td>0.0</td>\n",
       "      <td>0.0</td>\n",
       "      <td>90</td>\n",
       "      <td>1450</td>\n",
       "      <td>0</td>\n",
       "      <td>0</td>\n",
       "      <td>0</td>\n",
       "      <td>0</td>\n",
       "      <td>0</td>\n",
       "      <td>...</td>\n",
       "      <td>0</td>\n",
       "      <td>0</td>\n",
       "      <td>0</td>\n",
       "      <td>0</td>\n",
       "      <td>0</td>\n",
       "      <td>0</td>\n",
       "      <td>0</td>\n",
       "      <td>0</td>\n",
       "      <td>0</td>\n",
       "      <td>0</td>\n",
       "    </tr>\n",
       "    <tr>\n",
       "      <th>48175</th>\n",
       "      <td>282.12</td>\n",
       "      <td>0.0</td>\n",
       "      <td>0.0</td>\n",
       "      <td>90</td>\n",
       "      <td>954</td>\n",
       "      <td>0</td>\n",
       "      <td>0</td>\n",
       "      <td>0</td>\n",
       "      <td>0</td>\n",
       "      <td>0</td>\n",
       "      <td>...</td>\n",
       "      <td>0</td>\n",
       "      <td>0</td>\n",
       "      <td>0</td>\n",
       "      <td>0</td>\n",
       "      <td>0</td>\n",
       "      <td>0</td>\n",
       "      <td>0</td>\n",
       "      <td>0</td>\n",
       "      <td>0</td>\n",
       "      <td>0</td>\n",
       "    </tr>\n",
       "  </tbody>\n",
       "</table>\n",
       "<p>48176 rows × 66 columns</p>\n",
       "</div>"
      ],
      "text/plain": [
       "         temp  rain_1h  snow_1h  clouds_all  traffic_volume  \\\n",
       "0      288.28      0.0      0.0          40            5545   \n",
       "1      289.36      0.0      0.0          75            4516   \n",
       "2      289.58      0.0      0.0          90            4767   \n",
       "3      290.13      0.0      0.0          90            5026   \n",
       "4      291.14      0.0      0.0          75            4918   \n",
       "...       ...      ...      ...         ...             ...   \n",
       "48171  283.45      0.0      0.0          75            3543   \n",
       "48172  282.76      0.0      0.0          90            2781   \n",
       "48173  282.73      0.0      0.0          90            2159   \n",
       "48174  282.09      0.0      0.0          90            1450   \n",
       "48175  282.12      0.0      0.0          90             954   \n",
       "\n",
       "       holiday_Christmas Day  holiday_Columbus Day  holiday_Independence Day  \\\n",
       "0                          0                     0                         0   \n",
       "1                          0                     0                         0   \n",
       "2                          0                     0                         0   \n",
       "3                          0                     0                         0   \n",
       "4                          0                     0                         0   \n",
       "...                      ...                   ...                       ...   \n",
       "48171                      0                     0                         0   \n",
       "48172                      0                     0                         0   \n",
       "48173                      0                     0                         0   \n",
       "48174                      0                     0                         0   \n",
       "48175                      0                     0                         0   \n",
       "\n",
       "       holiday_Labor Day  holiday_Martin Luther King Jr Day  ...  \\\n",
       "0                      0                                  0  ...   \n",
       "1                      0                                  0  ...   \n",
       "2                      0                                  0  ...   \n",
       "3                      0                                  0  ...   \n",
       "4                      0                                  0  ...   \n",
       "...                  ...                                ...  ...   \n",
       "48171                  0                                  0  ...   \n",
       "48172                  0                                  0  ...   \n",
       "48173                  0                                  0  ...   \n",
       "48174                  0                                  0  ...   \n",
       "48175                  0                                  0  ...   \n",
       "\n",
       "       weather_description_sleet  weather_description_smoke  \\\n",
       "0                              0                          0   \n",
       "1                              0                          0   \n",
       "2                              0                          0   \n",
       "3                              0                          0   \n",
       "4                              0                          0   \n",
       "...                          ...                        ...   \n",
       "48171                          0                          0   \n",
       "48172                          0                          0   \n",
       "48173                          0                          0   \n",
       "48174                          0                          0   \n",
       "48175                          0                          0   \n",
       "\n",
       "       weather_description_snow  weather_description_thunderstorm  \\\n",
       "0                             0                                 0   \n",
       "1                             0                                 0   \n",
       "2                             0                                 0   \n",
       "3                             0                                 0   \n",
       "4                             0                                 0   \n",
       "...                         ...                               ...   \n",
       "48171                         0                                 0   \n",
       "48172                         0                                 0   \n",
       "48173                         0                                 0   \n",
       "48174                         0                                 0   \n",
       "48175                         0                                 0   \n",
       "\n",
       "       weather_description_thunderstorm with drizzle  \\\n",
       "0                                                  0   \n",
       "1                                                  0   \n",
       "2                                                  0   \n",
       "3                                                  0   \n",
       "4                                                  0   \n",
       "...                                              ...   \n",
       "48171                                              0   \n",
       "48172                                              0   \n",
       "48173                                              0   \n",
       "48174                                              0   \n",
       "48175                                              0   \n",
       "\n",
       "       weather_description_thunderstorm with heavy rain  \\\n",
       "0                                                     0   \n",
       "1                                                     0   \n",
       "2                                                     0   \n",
       "3                                                     0   \n",
       "4                                                     0   \n",
       "...                                                 ...   \n",
       "48171                                                 0   \n",
       "48172                                                 0   \n",
       "48173                                                 0   \n",
       "48174                                                 0   \n",
       "48175                                                 0   \n",
       "\n",
       "       weather_description_thunderstorm with light drizzle  \\\n",
       "0                                                      0     \n",
       "1                                                      0     \n",
       "2                                                      0     \n",
       "3                                                      0     \n",
       "4                                                      0     \n",
       "...                                                  ...     \n",
       "48171                                                  0     \n",
       "48172                                                  0     \n",
       "48173                                                  0     \n",
       "48174                                                  0     \n",
       "48175                                                  0     \n",
       "\n",
       "       weather_description_thunderstorm with light rain  \\\n",
       "0                                                     0   \n",
       "1                                                     0   \n",
       "2                                                     0   \n",
       "3                                                     0   \n",
       "4                                                     0   \n",
       "...                                                 ...   \n",
       "48171                                                 0   \n",
       "48172                                                 0   \n",
       "48173                                                 0   \n",
       "48174                                                 0   \n",
       "48175                                                 0   \n",
       "\n",
       "       weather_description_thunderstorm with rain  \\\n",
       "0                                               0   \n",
       "1                                               0   \n",
       "2                                               0   \n",
       "3                                               0   \n",
       "4                                               0   \n",
       "...                                           ...   \n",
       "48171                                           0   \n",
       "48172                                           0   \n",
       "48173                                           0   \n",
       "48174                                           0   \n",
       "48175                                           0   \n",
       "\n",
       "       weather_description_very heavy rain  \n",
       "0                                        0  \n",
       "1                                        0  \n",
       "2                                        0  \n",
       "3                                        0  \n",
       "4                                        0  \n",
       "...                                    ...  \n",
       "48171                                    0  \n",
       "48172                                    0  \n",
       "48173                                    0  \n",
       "48174                                    0  \n",
       "48175                                    0  \n",
       "\n",
       "[48176 rows x 66 columns]"
      ]
     },
     "execution_count": 28,
     "metadata": {},
     "output_type": "execute_result"
    }
   ],
   "source": [
    "df_dummies = pd.get_dummies(df, columns=['holiday', 'weather_main', 'weather_description'], dtype=int)\n",
    "df_dummies = df_dummies.drop(['date_time'], axis = 1)\n",
    "X = df_dummies\n",
    "df_dummies"
   ]
  },
  {
   "cell_type": "code",
   "execution_count": 29,
   "id": "9c74d7a5-9bcf-490a-b62d-a2a1ef80adb9",
   "metadata": {},
   "outputs": [
    {
     "data": {
      "image/png": "[encoded data removed]",
      "text/plain": [
       "<Figure size 640x480 with 1 Axes>"
      ]
     },
     "metadata": {},
     "output_type": "display_data"
    }
   ],
   "source": [
    "from sklearn.cluster import KMeans\n",
    "wcss = []\n",
    "for i in range(1, 11):\n",
    "    kmeans = KMeans(n_clusters = i, init = 'k-means++', random_state = 42)\n",
    "    kmeans.fit(X)\n",
    "    wcss.append(kmeans.inertia_)\n",
    "plt.plot(range(1, 11), wcss)\n",
    "plt.title('The Elbow Method')\n",
    "plt.xlabel('Number of clusters')\n",
    "plt.ylabel('WCSS')\n",
    "plt.show()"
   ]
  },
  {
   "cell_type": "code",
   "execution_count": 30,
   "id": "2c68fe48-eed4-4e77-a680-92aa3002179e",
   "metadata": {},
   "outputs": [
    {
     "name": "stdout",
     "output_type": "stream",
     "text": [
      "\n",
      "Number of clusters = 2\n",
      "Silhouette score = 0.6495999131813516\n",
      "\n",
      "Number of clusters = 3\n",
      "Silhouette score = 0.6386071709514932\n",
      "\n",
      "Number of clusters = 4\n",
      "Silhouette score = 0.6241817880335124\n",
      "\n",
      "Number of clusters = 5\n",
      "Silhouette score = 0.5929997220244766\n",
      "\n",
      "Number of clusters = 6\n",
      "Silhouette score = 0.5709761796426789\n",
      "\n",
      "Number of clusters = 7\n",
      "Silhouette score = 0.5563296373573499\n",
      "\n",
      "Number of clusters = 8\n",
      "Silhouette score = 0.5419216592579825\n",
      "\n",
      "Number of clusters = 9\n",
      "Silhouette score = 0.5406858159990436\n"
     ]
    }
   ],
   "source": [
    "# Посмотрим с какими параметрами какое значчение кластеризации будет выдавать\n",
    "from sklearn import metrics\n",
    "values = np.arange(2, 10)\n",
    "scores = []\n",
    "for num_clusters in values:\n",
    "    kmeans = KMeans(init='k-means++', n_clusters=num_clusters, n_init=10)\n",
    "    kmeans.fit(X)\n",
    "    score = metrics.silhouette_score(X, kmeans.labels_, \n",
    "                metric='euclidean', sample_size=len(X))\n",
    "\n",
    "    print(\"\\nNumber of clusters =\", num_clusters)\n",
    "    print(\"Silhouette score =\", score)\n",
    "                    \n",
    "    scores.append(score)"
   ]
  },
  {
   "cell_type": "code",
   "execution_count": 31,
   "id": "06063b2c-e2b0-4e95-8f88-a8dc7f0e51a0",
   "metadata": {},
   "outputs": [
    {
     "name": "stdout",
     "output_type": "stream",
     "text": [
      "\n",
      "Optimal number of clusters = 2\n"
     ]
    },
    {
     "data": {
      "image/png": "[encoded data removed]",
      "text/plain": [
       "<Figure size 640x480 with 1 Axes>"
      ]
     },
     "metadata": {},
     "output_type": "display_data"
    }
   ],
   "source": [
    "# Графическое представление\n",
    "plt.figure()\n",
    "plt.bar(values, scores, width=0.7, color='green', align='center')\n",
    "plt.title('Silhouette score vs number of clusters')\n",
    " \n",
    "num_clusters = np.argmax(scores) + values[0]\n",
    "print('\\nOptimal number of clusters =', num_clusters)\n",
    "\n",
    "plt.show()"
   ]
  },
  {
   "cell_type": "code",
   "execution_count": 38,
   "id": "b526608a-a960-4fe8-9429-c5cb6dd1ae87",
   "metadata": {},
   "outputs": [],
   "source": [
    "def clustering_metrics(predictions):\n",
    "    silhouette = metrics.silhouette_score(X, predictions)\n",
    "    davies_bouldin = metrics.davies_bouldin_score(X, predictions)\n",
    "    calinski_harabasz = metrics.calinski_harabasz_score(X, predictions)\n",
    "    \n",
    "    print(f'Силуэт скор - {silhouette}')\n",
    "    print(f'Дэвид Боулдин скор - {davies_bouldin}')\n",
    "    print(f'Калински Харабаш скор - {calinski_harabasz}')\n",
    "\n",
    "    return silhouette, davies_bouldin, calinski_harabasz"
   ]
  },
  {
   "cell_type": "code",
   "execution_count": 44,
   "id": "51a3fa66-f9ab-440b-b69a-0abb6ace3458",
   "metadata": {},
   "outputs": [],
   "source": [
    "from sklearn.cluster import KMeans\n",
    "from sklearn.cluster import AgglomerativeClustering\n",
    "from sklearn.cluster import Birch\n",
    "from sklearn.cluster import DBSCAN\n",
    "\n",
    "from sklearn import metrics\n",
    "from sklearn.preprocessing import StandardScaler\n",
    "from sklearn.decomposition import PCA\n",
    "from scipy.cluster.hierarchy import linkage, dendrogram\n",
    "def build_pred(predictions):\n",
    "    df_pca = pd.DataFrame(data = PCA(n_components=2).fit_transform(df))\n",
    "\n",
    "    plt.figure(figsize=(7, 5))\n",
    "\n",
    "    sns.scatterplot(x=df_pca.iloc[:, 0], y=df_pca.iloc[:, 1], hue=predictions, palette='tab10')\n",
    "    \n",
    "    plt.title('Результаты кластеризации')\n",
    "    plt.xlabel('PC1')\n",
    "    plt.ylabel('PC2')\n",
    "    plt.show();"
   ]
  },
  {
   "cell_type": "code",
   "execution_count": 39,
   "id": "e98875ab-4d75-4085-b9aa-91a0dd0fce7c",
   "metadata": {},
   "outputs": [
    {
     "data": {
      "image/png": "[encoded data removed]",
      "text/plain": [
       "<Figure size 640x480 with 1 Axes>"
      ]
     },
     "metadata": {},
     "output_type": "display_data"
    }
   ],
   "source": [
    "# Применим и графически сразу увидим результат\n",
    "\n",
    "X = df_dummies[['temp', 'traffic_volume']].values\n",
    "\n",
    "num_clusters = 2\n",
    "kmeans = KMeans(init='k-means++', n_clusters=num_clusters, n_init=10)\n",
    "pred = kmeans.fit_predict(X)\n",
    "\n",
    "plt.scatter(X[pred == 0, 0], X[pred == 0, 1], s=100, c='red', label='Cluster 1')\n",
    "plt.scatter(X[pred == 1, 0], X[pred == 1, 1], s=100, c='blue', label='Cluster 2')\n",
    "plt.title('Clusters of customers')\n",
    "plt.xlabel('Temperature')\n",
    "plt.ylabel('Traffic Volume')\n",
    "plt.legend()\n",
    "plt.show()"
   ]
  },
  {
   "cell_type": "code",
   "execution_count": 40,
   "id": "65af2f15-69bd-4e55-9c19-63aeabeb0733",
   "metadata": {},
   "outputs": [
    {
     "name": "stdout",
     "output_type": "stream",
     "text": [
      "Силуэт скор - 0.6506681117675617\n",
      "Дэвид Боулдин скор - 0.46822227267347\n",
      "Калински Харабаш скор - 163614.16530074846\n"
     ]
    }
   ],
   "source": [
    "kmeans_s, kmeans_db, kmeans_ch = clustering_metrics(kmeans.labels_)"
   ]
  },
  {
   "cell_type": "code",
   "execution_count": 35,
   "id": "035139c2-276e-4e72-9218-5008cebd662f",
   "metadata": {},
   "outputs": [
    {
     "data": {
      "image/png": "[encoded data removed]",
      "text/plain": [
       "<Figure size 640x480 with 1 Axes>"
      ]
     },
     "metadata": {},
     "output_type": "display_data"
    }
   ],
   "source": [
    "from sklearn.cluster import KMeans\n",
    "from sklearn.cluster import AgglomerativeClustering\n",
    "from sklearn.cluster import Birch\n",
    "from sklearn.cluster import DBSCAN\n",
    "\n",
    "birch = Birch(branching_factor=30, n_clusters=2, threshold=2.5)\n",
    "pred = birch.fit_predict(X)\n",
    "\n",
    "plt.scatter(X[pred == 0, 0], X[pred == 0, 1], s=100, c='red', label='Cluster 1')\n",
    "plt.scatter(X[pred == 1, 0], X[pred == 1, 1], s=100, c='blue', label='Cluster 2')\n",
    "plt.title('Clusters of customers')\n",
    "plt.xlabel('Temperature')\n",
    "plt.ylabel('Traffic Volume')\n",
    "plt.legend()\n",
    "plt.show()"
   ]
  },
  {
   "cell_type": "code",
   "execution_count": 48,
   "id": "99acb4fe-2d12-4b46-9482-6b7042d06875",
   "metadata": {},
   "outputs": [
    {
     "ename": "ValueError",
     "evalue": "could not convert string to float: 'Weekday'",
     "output_type": "error",
     "traceback": [
      "\u001b[1;31m---------------------------------------------------------------------------\u001b[0m",
      "\u001b[1;31mValueError\u001b[0m                                Traceback (most recent call last)",
      "\u001b[1;32m~\\AppData\\Local\\Temp\\ipykernel_8764\\3606675209.py\u001b[0m in \u001b[0;36m?\u001b[1;34m()\u001b[0m\n\u001b[1;32m----> 1\u001b[1;33m \u001b[0mbuild_pred\u001b[0m\u001b[1;33m(\u001b[0m\u001b[0mbirch\u001b[0m\u001b[1;33m.\u001b[0m\u001b[0mfit\u001b[0m\u001b[1;33m(\u001b[0m\u001b[0mX\u001b[0m\u001b[1;33m)\u001b[0m\u001b[1;33m)\u001b[0m\u001b[1;33m\u001b[0m\u001b[1;33m\u001b[0m\u001b[0m\n\u001b[0m",
      "\u001b[1;32m~\\AppData\\Local\\Temp\\ipykernel_8764\\411166363.py\u001b[0m in \u001b[0;36m?\u001b[1;34m(predictions)\u001b[0m\n\u001b[0;32m     10\u001b[0m \u001b[1;32mdef\u001b[0m \u001b[0mbuild_pred\u001b[0m\u001b[1;33m(\u001b[0m\u001b[0mpredictions\u001b[0m\u001b[1;33m)\u001b[0m\u001b[1;33m:\u001b[0m\u001b[1;33m\u001b[0m\u001b[1;33m\u001b[0m\u001b[0m\n\u001b[1;32m---> 11\u001b[1;33m     \u001b[0mdf_pca\u001b[0m \u001b[1;33m=\u001b[0m \u001b[0mpd\u001b[0m\u001b[1;33m.\u001b[0m\u001b[0mDataFrame\u001b[0m\u001b[1;33m(\u001b[0m\u001b[0mdata\u001b[0m \u001b[1;33m=\u001b[0m \u001b[0mPCA\u001b[0m\u001b[1;33m(\u001b[0m\u001b[0mn_components\u001b[0m\u001b[1;33m=\u001b[0m\u001b[1;36m2\u001b[0m\u001b[1;33m)\u001b[0m\u001b[1;33m.\u001b[0m\u001b[0mfit_transform\u001b[0m\u001b[1;33m(\u001b[0m\u001b[0mdf\u001b[0m\u001b[1;33m)\u001b[0m\u001b[1;33m)\u001b[0m\u001b[1;33m\u001b[0m\u001b[1;33m\u001b[0m\u001b[0m\n\u001b[0m\u001b[0;32m     12\u001b[0m \u001b[1;33m\u001b[0m\u001b[0m\n\u001b[0;32m     13\u001b[0m     \u001b[0mplt\u001b[0m\u001b[1;33m.\u001b[0m\u001b[0mfigure\u001b[0m\u001b[1;33m(\u001b[0m\u001b[0mfigsize\u001b[0m\u001b[1;33m=\u001b[0m\u001b[1;33m(\u001b[0m\u001b[1;36m7\u001b[0m\u001b[1;33m,\u001b[0m \u001b[1;36m5\u001b[0m\u001b[1;33m)\u001b[0m\u001b[1;33m)\u001b[0m\u001b[1;33m\u001b[0m\u001b[1;33m\u001b[0m\u001b[0m\n\u001b[0;32m     14\u001b[0m \u001b[1;33m\u001b[0m\u001b[0m\n",
      "\u001b[1;32mD:\\Games\\Lib\\site-packages\\sklearn\\utils\\_set_output.py\u001b[0m in \u001b[0;36m?\u001b[1;34m(self, X, *args, **kwargs)\u001b[0m\n\u001b[0;32m    138\u001b[0m     \u001b[1;33m@\u001b[0m\u001b[0mwraps\u001b[0m\u001b[1;33m(\u001b[0m\u001b[0mf\u001b[0m\u001b[1;33m)\u001b[0m\u001b[1;33m\u001b[0m\u001b[1;33m\u001b[0m\u001b[0m\n\u001b[0;32m    139\u001b[0m     \u001b[1;32mdef\u001b[0m \u001b[0mwrapped\u001b[0m\u001b[1;33m(\u001b[0m\u001b[0mself\u001b[0m\u001b[1;33m,\u001b[0m \u001b[0mX\u001b[0m\u001b[1;33m,\u001b[0m \u001b[1;33m*\u001b[0m\u001b[0margs\u001b[0m\u001b[1;33m,\u001b[0m \u001b[1;33m**\u001b[0m\u001b[0mkwargs\u001b[0m\u001b[1;33m)\u001b[0m\u001b[1;33m:\u001b[0m\u001b[1;33m\u001b[0m\u001b[1;33m\u001b[0m\u001b[0m\n\u001b[1;32m--> 140\u001b[1;33m         \u001b[0mdata_to_wrap\u001b[0m \u001b[1;33m=\u001b[0m \u001b[0mf\u001b[0m\u001b[1;33m(\u001b[0m\u001b[0mself\u001b[0m\u001b[1;33m,\u001b[0m \u001b[0mX\u001b[0m\u001b[1;33m,\u001b[0m \u001b[1;33m*\u001b[0m\u001b[0margs\u001b[0m\u001b[1;33m,\u001b[0m \u001b[1;33m**\u001b[0m\u001b[0mkwargs\u001b[0m\u001b[1;33m)\u001b[0m\u001b[1;33m\u001b[0m\u001b[1;33m\u001b[0m\u001b[0m\n\u001b[0m\u001b[0;32m    141\u001b[0m         \u001b[1;32mif\u001b[0m \u001b[0misinstance\u001b[0m\u001b[1;33m(\u001b[0m\u001b[0mdata_to_wrap\u001b[0m\u001b[1;33m,\u001b[0m \u001b[0mtuple\u001b[0m\u001b[1;33m)\u001b[0m\u001b[1;33m:\u001b[0m\u001b[1;33m\u001b[0m\u001b[1;33m\u001b[0m\u001b[0m\n\u001b[0;32m    142\u001b[0m             \u001b[1;31m# only wrap the first output for cross decomposition\u001b[0m\u001b[1;33m\u001b[0m\u001b[1;33m\u001b[0m\u001b[0m\n\u001b[0;32m    143\u001b[0m             return (\n",
      "\u001b[1;32mD:\\Games\\Lib\\site-packages\\sklearn\\decomposition\\_pca.py\u001b[0m in \u001b[0;36m?\u001b[1;34m(self, X, y)\u001b[0m\n\u001b[0;32m    458\u001b[0m         \u001b[0mC\u001b[0m\u001b[1;33m-\u001b[0m\u001b[0mordered\u001b[0m \u001b[0marray\u001b[0m\u001b[1;33m,\u001b[0m \u001b[0muse\u001b[0m \u001b[1;34m'np.ascontiguousarray'\u001b[0m\u001b[1;33m.\u001b[0m\u001b[1;33m\u001b[0m\u001b[1;33m\u001b[0m\u001b[0m\n\u001b[0;32m    459\u001b[0m         \"\"\"\n\u001b[0;32m    460\u001b[0m         \u001b[0mself\u001b[0m\u001b[1;33m.\u001b[0m\u001b[0m_validate_params\u001b[0m\u001b[1;33m(\u001b[0m\u001b[1;33m)\u001b[0m\u001b[1;33m\u001b[0m\u001b[1;33m\u001b[0m\u001b[0m\n\u001b[0;32m    461\u001b[0m \u001b[1;33m\u001b[0m\u001b[0m\n\u001b[1;32m--> 462\u001b[1;33m         \u001b[0mU\u001b[0m\u001b[1;33m,\u001b[0m \u001b[0mS\u001b[0m\u001b[1;33m,\u001b[0m \u001b[0mVt\u001b[0m \u001b[1;33m=\u001b[0m \u001b[0mself\u001b[0m\u001b[1;33m.\u001b[0m\u001b[0m_fit\u001b[0m\u001b[1;33m(\u001b[0m\u001b[0mX\u001b[0m\u001b[1;33m)\u001b[0m\u001b[1;33m\u001b[0m\u001b[1;33m\u001b[0m\u001b[0m\n\u001b[0m\u001b[0;32m    463\u001b[0m         \u001b[0mU\u001b[0m \u001b[1;33m=\u001b[0m \u001b[0mU\u001b[0m\u001b[1;33m[\u001b[0m\u001b[1;33m:\u001b[0m\u001b[1;33m,\u001b[0m \u001b[1;33m:\u001b[0m \u001b[0mself\u001b[0m\u001b[1;33m.\u001b[0m\u001b[0mn_components_\u001b[0m\u001b[1;33m]\u001b[0m\u001b[1;33m\u001b[0m\u001b[1;33m\u001b[0m\u001b[0m\n\u001b[0;32m    464\u001b[0m \u001b[1;33m\u001b[0m\u001b[0m\n\u001b[0;32m    465\u001b[0m         \u001b[1;32mif\u001b[0m \u001b[0mself\u001b[0m\u001b[1;33m.\u001b[0m\u001b[0mwhiten\u001b[0m\u001b[1;33m:\u001b[0m\u001b[1;33m\u001b[0m\u001b[1;33m\u001b[0m\u001b[0m\n",
      "\u001b[1;32mD:\\Games\\Lib\\site-packages\\sklearn\\decomposition\\_pca.py\u001b[0m in \u001b[0;36m?\u001b[1;34m(self, X)\u001b[0m\n\u001b[0;32m    481\u001b[0m                 \u001b[1;34m\"PCA does not support sparse input. See \"\u001b[0m\u001b[1;33m\u001b[0m\u001b[1;33m\u001b[0m\u001b[0m\n\u001b[0;32m    482\u001b[0m                 \u001b[1;34m\"TruncatedSVD for a possible alternative.\"\u001b[0m\u001b[1;33m\u001b[0m\u001b[1;33m\u001b[0m\u001b[0m\n\u001b[0;32m    483\u001b[0m             )\n\u001b[0;32m    484\u001b[0m \u001b[1;33m\u001b[0m\u001b[0m\n\u001b[1;32m--> 485\u001b[1;33m         X = self._validate_data(\n\u001b[0m\u001b[0;32m    486\u001b[0m             \u001b[0mX\u001b[0m\u001b[1;33m,\u001b[0m \u001b[0mdtype\u001b[0m\u001b[1;33m=\u001b[0m\u001b[1;33m[\u001b[0m\u001b[0mnp\u001b[0m\u001b[1;33m.\u001b[0m\u001b[0mfloat64\u001b[0m\u001b[1;33m,\u001b[0m \u001b[0mnp\u001b[0m\u001b[1;33m.\u001b[0m\u001b[0mfloat32\u001b[0m\u001b[1;33m]\u001b[0m\u001b[1;33m,\u001b[0m \u001b[0mensure_2d\u001b[0m\u001b[1;33m=\u001b[0m\u001b[1;32mTrue\u001b[0m\u001b[1;33m,\u001b[0m \u001b[0mcopy\u001b[0m\u001b[1;33m=\u001b[0m\u001b[0mself\u001b[0m\u001b[1;33m.\u001b[0m\u001b[0mcopy\u001b[0m\u001b[1;33m\u001b[0m\u001b[1;33m\u001b[0m\u001b[0m\n\u001b[0;32m    487\u001b[0m         )\n\u001b[0;32m    488\u001b[0m \u001b[1;33m\u001b[0m\u001b[0m\n",
      "\u001b[1;32mD:\\Games\\Lib\\site-packages\\sklearn\\base.py\u001b[0m in \u001b[0;36m?\u001b[1;34m(self, X, y, reset, validate_separately, **check_params)\u001b[0m\n\u001b[0;32m    561\u001b[0m \u001b[1;33m\u001b[0m\u001b[0m\n\u001b[0;32m    562\u001b[0m         \u001b[1;32mif\u001b[0m \u001b[0mno_val_X\u001b[0m \u001b[1;32mand\u001b[0m \u001b[0mno_val_y\u001b[0m\u001b[1;33m:\u001b[0m\u001b[1;33m\u001b[0m\u001b[1;33m\u001b[0m\u001b[0m\n\u001b[0;32m    563\u001b[0m             \u001b[1;32mraise\u001b[0m \u001b[0mValueError\u001b[0m\u001b[1;33m(\u001b[0m\u001b[1;34m\"Validation should be done on X, y or both.\"\u001b[0m\u001b[1;33m)\u001b[0m\u001b[1;33m\u001b[0m\u001b[1;33m\u001b[0m\u001b[0m\n\u001b[0;32m    564\u001b[0m         \u001b[1;32melif\u001b[0m \u001b[1;32mnot\u001b[0m \u001b[0mno_val_X\u001b[0m \u001b[1;32mand\u001b[0m \u001b[0mno_val_y\u001b[0m\u001b[1;33m:\u001b[0m\u001b[1;33m\u001b[0m\u001b[1;33m\u001b[0m\u001b[0m\n\u001b[1;32m--> 565\u001b[1;33m             \u001b[0mX\u001b[0m \u001b[1;33m=\u001b[0m \u001b[0mcheck_array\u001b[0m\u001b[1;33m(\u001b[0m\u001b[0mX\u001b[0m\u001b[1;33m,\u001b[0m \u001b[0minput_name\u001b[0m\u001b[1;33m=\u001b[0m\u001b[1;34m\"X\"\u001b[0m\u001b[1;33m,\u001b[0m \u001b[1;33m**\u001b[0m\u001b[0mcheck_params\u001b[0m\u001b[1;33m)\u001b[0m\u001b[1;33m\u001b[0m\u001b[1;33m\u001b[0m\u001b[0m\n\u001b[0m\u001b[0;32m    566\u001b[0m             \u001b[0mout\u001b[0m \u001b[1;33m=\u001b[0m \u001b[0mX\u001b[0m\u001b[1;33m\u001b[0m\u001b[1;33m\u001b[0m\u001b[0m\n\u001b[0;32m    567\u001b[0m         \u001b[1;32melif\u001b[0m \u001b[0mno_val_X\u001b[0m \u001b[1;32mand\u001b[0m \u001b[1;32mnot\u001b[0m \u001b[0mno_val_y\u001b[0m\u001b[1;33m:\u001b[0m\u001b[1;33m\u001b[0m\u001b[1;33m\u001b[0m\u001b[0m\n\u001b[0;32m    568\u001b[0m             \u001b[0my\u001b[0m \u001b[1;33m=\u001b[0m \u001b[0m_check_y\u001b[0m\u001b[1;33m(\u001b[0m\u001b[0my\u001b[0m\u001b[1;33m,\u001b[0m \u001b[1;33m**\u001b[0m\u001b[0mcheck_params\u001b[0m\u001b[1;33m)\u001b[0m\u001b[1;33m\u001b[0m\u001b[1;33m\u001b[0m\u001b[0m\n",
      "\u001b[1;32mD:\\Games\\Lib\\site-packages\\sklearn\\utils\\validation.py\u001b[0m in \u001b[0;36m?\u001b[1;34m(array, accept_sparse, accept_large_sparse, dtype, order, copy, force_all_finite, ensure_2d, allow_nd, ensure_min_samples, ensure_min_features, estimator, input_name)\u001b[0m\n\u001b[0;32m    876\u001b[0m                         )\n\u001b[0;32m    877\u001b[0m                     \u001b[0marray\u001b[0m \u001b[1;33m=\u001b[0m \u001b[0mxp\u001b[0m\u001b[1;33m.\u001b[0m\u001b[0mastype\u001b[0m\u001b[1;33m(\u001b[0m\u001b[0marray\u001b[0m\u001b[1;33m,\u001b[0m \u001b[0mdtype\u001b[0m\u001b[1;33m,\u001b[0m \u001b[0mcopy\u001b[0m\u001b[1;33m=\u001b[0m\u001b[1;32mFalse\u001b[0m\u001b[1;33m)\u001b[0m\u001b[1;33m\u001b[0m\u001b[1;33m\u001b[0m\u001b[0m\n\u001b[0;32m    878\u001b[0m                 \u001b[1;32melse\u001b[0m\u001b[1;33m:\u001b[0m\u001b[1;33m\u001b[0m\u001b[1;33m\u001b[0m\u001b[0m\n\u001b[0;32m    879\u001b[0m                     \u001b[0marray\u001b[0m \u001b[1;33m=\u001b[0m \u001b[0m_asarray_with_order\u001b[0m\u001b[1;33m(\u001b[0m\u001b[0marray\u001b[0m\u001b[1;33m,\u001b[0m \u001b[0morder\u001b[0m\u001b[1;33m=\u001b[0m\u001b[0morder\u001b[0m\u001b[1;33m,\u001b[0m \u001b[0mdtype\u001b[0m\u001b[1;33m=\u001b[0m\u001b[0mdtype\u001b[0m\u001b[1;33m,\u001b[0m \u001b[0mxp\u001b[0m\u001b[1;33m=\u001b[0m\u001b[0mxp\u001b[0m\u001b[1;33m)\u001b[0m\u001b[1;33m\u001b[0m\u001b[1;33m\u001b[0m\u001b[0m\n\u001b[1;32m--> 880\u001b[1;33m             \u001b[1;32mexcept\u001b[0m \u001b[0mComplexWarning\u001b[0m \u001b[1;32mas\u001b[0m \u001b[0mcomplex_warning\u001b[0m\u001b[1;33m:\u001b[0m\u001b[1;33m\u001b[0m\u001b[1;33m\u001b[0m\u001b[0m\n\u001b[0m\u001b[0;32m    881\u001b[0m                 raise ValueError(\n\u001b[0;32m    882\u001b[0m                     \u001b[1;34m\"Complex data not supported\\n{}\\n\"\u001b[0m\u001b[1;33m.\u001b[0m\u001b[0mformat\u001b[0m\u001b[1;33m(\u001b[0m\u001b[0marray\u001b[0m\u001b[1;33m)\u001b[0m\u001b[1;33m\u001b[0m\u001b[1;33m\u001b[0m\u001b[0m\n\u001b[0;32m    883\u001b[0m                 ) from complex_warning\n",
      "\u001b[1;32mD:\\Games\\Lib\\site-packages\\sklearn\\utils\\_array_api.py\u001b[0m in \u001b[0;36m?\u001b[1;34m(array, dtype, order, copy, xp)\u001b[0m\n\u001b[0;32m    181\u001b[0m     \u001b[1;32mif\u001b[0m \u001b[0mxp\u001b[0m \u001b[1;32mis\u001b[0m \u001b[1;32mNone\u001b[0m\u001b[1;33m:\u001b[0m\u001b[1;33m\u001b[0m\u001b[1;33m\u001b[0m\u001b[0m\n\u001b[0;32m    182\u001b[0m         \u001b[0mxp\u001b[0m\u001b[1;33m,\u001b[0m \u001b[0m_\u001b[0m \u001b[1;33m=\u001b[0m \u001b[0mget_namespace\u001b[0m\u001b[1;33m(\u001b[0m\u001b[0marray\u001b[0m\u001b[1;33m)\u001b[0m\u001b[1;33m\u001b[0m\u001b[1;33m\u001b[0m\u001b[0m\n\u001b[0;32m    183\u001b[0m     \u001b[1;32mif\u001b[0m \u001b[0mxp\u001b[0m\u001b[1;33m.\u001b[0m\u001b[0m__name__\u001b[0m \u001b[1;32min\u001b[0m \u001b[1;33m{\u001b[0m\u001b[1;34m\"numpy\"\u001b[0m\u001b[1;33m,\u001b[0m \u001b[1;34m\"numpy.array_api\"\u001b[0m\u001b[1;33m}\u001b[0m\u001b[1;33m:\u001b[0m\u001b[1;33m\u001b[0m\u001b[1;33m\u001b[0m\u001b[0m\n\u001b[0;32m    184\u001b[0m         \u001b[1;31m# Use NumPy API to support order\u001b[0m\u001b[1;33m\u001b[0m\u001b[1;33m\u001b[0m\u001b[0m\n\u001b[1;32m--> 185\u001b[1;33m         \u001b[0marray\u001b[0m \u001b[1;33m=\u001b[0m \u001b[0mnumpy\u001b[0m\u001b[1;33m.\u001b[0m\u001b[0masarray\u001b[0m\u001b[1;33m(\u001b[0m\u001b[0marray\u001b[0m\u001b[1;33m,\u001b[0m \u001b[0morder\u001b[0m\u001b[1;33m=\u001b[0m\u001b[0morder\u001b[0m\u001b[1;33m,\u001b[0m \u001b[0mdtype\u001b[0m\u001b[1;33m=\u001b[0m\u001b[0mdtype\u001b[0m\u001b[1;33m)\u001b[0m\u001b[1;33m\u001b[0m\u001b[1;33m\u001b[0m\u001b[0m\n\u001b[0m\u001b[0;32m    186\u001b[0m         \u001b[1;32mreturn\u001b[0m \u001b[0mxp\u001b[0m\u001b[1;33m.\u001b[0m\u001b[0masarray\u001b[0m\u001b[1;33m(\u001b[0m\u001b[0marray\u001b[0m\u001b[1;33m,\u001b[0m \u001b[0mcopy\u001b[0m\u001b[1;33m=\u001b[0m\u001b[0mcopy\u001b[0m\u001b[1;33m)\u001b[0m\u001b[1;33m\u001b[0m\u001b[1;33m\u001b[0m\u001b[0m\n\u001b[0;32m    187\u001b[0m     \u001b[1;32melse\u001b[0m\u001b[1;33m:\u001b[0m\u001b[1;33m\u001b[0m\u001b[1;33m\u001b[0m\u001b[0m\n\u001b[0;32m    188\u001b[0m         \u001b[1;32mreturn\u001b[0m \u001b[0mxp\u001b[0m\u001b[1;33m.\u001b[0m\u001b[0masarray\u001b[0m\u001b[1;33m(\u001b[0m\u001b[0marray\u001b[0m\u001b[1;33m,\u001b[0m \u001b[0mdtype\u001b[0m\u001b[1;33m=\u001b[0m\u001b[0mdtype\u001b[0m\u001b[1;33m,\u001b[0m \u001b[0mcopy\u001b[0m\u001b[1;33m=\u001b[0m\u001b[0mcopy\u001b[0m\u001b[1;33m)\u001b[0m\u001b[1;33m\u001b[0m\u001b[1;33m\u001b[0m\u001b[0m\n",
      "\u001b[1;32mD:\\Games\\Lib\\site-packages\\pandas\\core\\generic.py\u001b[0m in \u001b[0;36m?\u001b[1;34m(self, dtype)\u001b[0m\n\u001b[0;32m   2082\u001b[0m     \u001b[1;32mdef\u001b[0m \u001b[0m__array__\u001b[0m\u001b[1;33m(\u001b[0m\u001b[0mself\u001b[0m\u001b[1;33m,\u001b[0m \u001b[0mdtype\u001b[0m\u001b[1;33m:\u001b[0m \u001b[0mnpt\u001b[0m\u001b[1;33m.\u001b[0m\u001b[0mDTypeLike\u001b[0m \u001b[1;33m|\u001b[0m \u001b[1;32mNone\u001b[0m \u001b[1;33m=\u001b[0m \u001b[1;32mNone\u001b[0m\u001b[1;33m)\u001b[0m \u001b[1;33m->\u001b[0m \u001b[0mnp\u001b[0m\u001b[1;33m.\u001b[0m\u001b[0mndarray\u001b[0m\u001b[1;33m:\u001b[0m\u001b[1;33m\u001b[0m\u001b[1;33m\u001b[0m\u001b[0m\n\u001b[0;32m   2083\u001b[0m         \u001b[0mvalues\u001b[0m \u001b[1;33m=\u001b[0m \u001b[0mself\u001b[0m\u001b[1;33m.\u001b[0m\u001b[0m_values\u001b[0m\u001b[1;33m\u001b[0m\u001b[1;33m\u001b[0m\u001b[0m\n\u001b[1;32m-> 2084\u001b[1;33m         \u001b[0marr\u001b[0m \u001b[1;33m=\u001b[0m \u001b[0mnp\u001b[0m\u001b[1;33m.\u001b[0m\u001b[0masarray\u001b[0m\u001b[1;33m(\u001b[0m\u001b[0mvalues\u001b[0m\u001b[1;33m,\u001b[0m \u001b[0mdtype\u001b[0m\u001b[1;33m=\u001b[0m\u001b[0mdtype\u001b[0m\u001b[1;33m)\u001b[0m\u001b[1;33m\u001b[0m\u001b[1;33m\u001b[0m\u001b[0m\n\u001b[0m\u001b[0;32m   2085\u001b[0m         if (\n\u001b[0;32m   2086\u001b[0m             \u001b[0mastype_is_view\u001b[0m\u001b[1;33m(\u001b[0m\u001b[0mvalues\u001b[0m\u001b[1;33m.\u001b[0m\u001b[0mdtype\u001b[0m\u001b[1;33m,\u001b[0m \u001b[0marr\u001b[0m\u001b[1;33m.\u001b[0m\u001b[0mdtype\u001b[0m\u001b[1;33m)\u001b[0m\u001b[1;33m\u001b[0m\u001b[1;33m\u001b[0m\u001b[0m\n\u001b[0;32m   2087\u001b[0m             \u001b[1;32mand\u001b[0m \u001b[0musing_copy_on_write\u001b[0m\u001b[1;33m(\u001b[0m\u001b[1;33m)\u001b[0m\u001b[1;33m\u001b[0m\u001b[1;33m\u001b[0m\u001b[0m\n",
      "\u001b[1;31mValueError\u001b[0m: could not convert string to float: 'Weekday'"
     ]
    }
   ],
   "source": [
    "build_pred(birch.fit(X))"
   ]
  },
  {
   "cell_type": "code",
   "execution_count": 41,
   "id": "97b06067-5ebe-47b4-ac3d-c4cf5584fa3a",
   "metadata": {},
   "outputs": [
    {
     "name": "stdout",
     "output_type": "stream",
     "text": [
      "Силуэт скор - 0.5910972867142857\n",
      "Дэвид Боулдин скор - 0.5120832108484237\n",
      "Калински Харабаш скор - 116162.80630425007\n"
     ]
    }
   ],
   "source": [
    "birch_s, birch_db, birch_ch = clustering_metrics(birch.labels_)"
   ]
  },
  {
   "cell_type": "code",
   "execution_count": null,
   "id": "59fde539-e148-49b0-963d-eaa6e499e1b1",
   "metadata": {},
   "outputs": [],
   "source": []
  }
 ],
 "metadata": {
  "kernelspec": {
   "display_name": "Python 3 (ipykernel)",
   "language": "python",
   "name": "python3"
  },
  "language_info": {
   "codemirror_mode": {
    "name": "ipython",
    "version": 3
   },
   "file_extension": ".py",
   "mimetype": "text/x-python",
   "name": "python",
   "nbconvert_exporter": "python",
   "pygments_lexer": "ipython3",
   "version": "3.11.7"
  }
 },
 "nbformat": 4,
 "nbformat_minor": 5
}
